{
 "cells": [
  {
   "cell_type": "code",
   "execution_count": 1,
   "metadata": {},
   "outputs": [],
   "source": [
    "import glob, os \n",
    "import pandas as pd\n",
    "import numpy as np"
   ]
  },
  {
   "cell_type": "code",
   "execution_count": 93,
   "metadata": {},
   "outputs": [],
   "source": [
    "def cleaning (df):\n",
    "    df.columns = df.columns.to_series().apply(lambda x: x.strip())\n",
    "    df.columns = df.columns.str.replace(' ', '_')\n",
    "    df.columns = df.columns.str.replace('-', '_')\n",
    "\n",
    "def observations (df):\n",
    "    df['Demo_ID'] = df['Demo_ID'].astype(str)\n",
    "    df['Subdealers_Dealers_Farmers_Villages_Id'] = df['Subdealers_Dealers_Farmers_Villages_Id'].astype(str)\n",
    "    df['DemoID_OutletID'] = df['Demo_ID'] + df['Subdealers_Dealers_Farmers_Villages_Id']\n",
    "    \n",
    "def droptest(df):\n",
    "    df.drop(df[df['User_Id'] == 8].index, inplace = True) \n",
    "    df.drop(df[df['User_Id'] == 4].index, inplace = True) \n",
    "    df.drop(df[df['User_Id'] == 7].index, inplace = True) "
   ]
  },
  {
   "cell_type": "code",
   "execution_count": 100,
   "metadata": {},
   "outputs": [],
   "source": [
    "path =r'D:\\Bizom\\Bizom Analysis\\Demo Analysis\\DemoFY21-22\\Demo Reports'\n",
    "demo = pd.concat(map(pd.read_excel, glob.glob(os.path.join(path, \"*.xlsx\"))),sort=False)"
   ]
  },
  {
   "cell_type": "code",
   "execution_count": 101,
   "metadata": {},
   "outputs": [],
   "source": [
    "cleaning (demo)\n",
    "\n",
    "demo['Demo_Id'] = demo['Demo_Id'].astype(str)\n",
    "demo['Outlet_Id'] = demo['Outlet_Id'].astype(str)\n",
    "demo['con']= demo['Demo_Id']+ demo['Outlet_Id']\n",
    "\n",
    "# All level observation of all crops\n",
    "cot_demo = demo.loc[demo['Focus_Crop'] == \"Cotton\"].copy()\n",
    "paddy_demo = demo.loc[demo['Focus_Crop'] == \"Paddy\"].copy()\n",
    "scane_demo = demo.loc[demo['Focus_Crop'] == \"Sugarcane\"].copy()\n",
    "soy_demo = demo.loc[demo['Focus_Crop'] == \"Soybean\"].copy()\n",
    "gnut_demo = demo.loc[demo['Focus_Crop'] == \"Groundnut\"].copy()\n",
    "tom_demo = demo.loc[demo['Focus_Crop'] == \"Tomato\"].copy()\n",
    "maize_demo = demo.loc[demo['Focus_Crop'] == \"Maize\"].copy()\n",
    "oni_demo = demo.loc[demo['Focus_Crop'] == \"Onion\"].copy()\n",
    "pot_demo = demo.loc[demo['Focus_Crop'] == \"Potato\"].copy()\n",
    "banana_demo = demo.loc[demo['Focus_Crop'] == \"Banana\"].copy()\n",
    "must_demo = demo.loc[demo['Focus_Crop'] == \"Mustard\"].copy()\n",
    "wheat_demo = demo.loc[demo['Focus_Crop'] == \"Wheat\"].copy()"
   ]
  },
  {
   "cell_type": "code",
   "execution_count": 102,
   "metadata": {
    "scrolled": false
   },
   "outputs": [
    {
     "name": "stderr",
     "output_type": "stream",
     "text": [
      "C:\\Users\\ritesh.gane\\Anaconda3\\lib\\site-packages\\IPython\\core\\interactiveshell.py:3146: DtypeWarning: Columns (7,12,14,16) have mixed types.Specify dtype option on import or set low_memory=False.\n",
      "  has_raised = await self.run_ast_nodes(code_ast.body, cell_name,\n"
     ]
    }
   ],
   "source": [
    "file = r'D:\\Bizom\\Bizom Analysis\\Demo Analysis\\DemoFY21-22\\Outlet_Dump\\dump.csv'\n",
    "\n",
    "outlet = pd.read_csv(file)"
   ]
  },
  {
   "cell_type": "code",
   "execution_count": 103,
   "metadata": {},
   "outputs": [],
   "source": [
    "fd = outlet.loc[outlet['Outlet_Type'] == \"Farmer\"].copy()\n",
    "fdn = fd[['Bizom_Id','Taluka_Name', 'District' , 'State']].copy()\n",
    "fdn['Bizom_Id'] = fdn['Bizom_Id'].astype(str)"
   ]
  },
  {
   "cell_type": "code",
   "execution_count": 104,
   "metadata": {},
   "outputs": [
    {
     "data": {
      "text/plain": [
       "(8895, 38)"
      ]
     },
     "execution_count": 104,
     "metadata": {},
     "output_type": "execute_result"
    }
   ],
   "source": [
    "demo1 = demo.merge(fdn, left_on = 'Outlet_Id', right_on = 'Bizom_Id', how = 'left')\n",
    "demo1.shape"
   ]
  },
  {
   "cell_type": "markdown",
   "metadata": {},
   "source": [
    "# Cotton Observations"
   ]
  },
  {
   "cell_type": "code",
   "execution_count": 7,
   "metadata": {
    "scrolled": true
   },
   "outputs": [
    {
     "data": {
      "text/plain": [
       "(560, 74)"
      ]
     },
     "execution_count": 7,
     "metadata": {},
     "output_type": "execute_result"
    }
   ],
   "source": [
    "path =r'D:\\Bizom\\Bizom Analysis\\Demo Analysis\\DemoFY21-22\\Crop_Observations\\Cotton'\n",
    "cot_ob = pd.concat(map(pd.read_excel, glob.glob(os.path.join(path, \"*.xlsx\"))),sort=False)\n",
    "\n",
    "cleaning (cot_ob)\n",
    "observations(cot_ob)\n",
    "droptest(cot_ob)\n",
    "\n",
    "cot_f = cot_demo.merge(cot_ob,left_on= 'con', right_on = 'DemoID_OutletID')\n",
    "cot_f.shape"
   ]
  },
  {
   "cell_type": "code",
   "execution_count": 8,
   "metadata": {
    "scrolled": true
   },
   "outputs": [
    {
     "data": {
      "text/plain": [
       "(81, 114)"
      ]
     },
     "execution_count": 8,
     "metadata": {},
     "output_type": "execute_result"
    }
   ],
   "source": [
    "cot_ob_nm = cot_ob.merge(cot_f,left_on= 'DemoID_OutletID', right_on = 'DemoID_OutletID', how='outer',indicator=True)\n",
    "cot_ob_nm=cot_ob_nm[cot_ob_nm['_merge']=='left_only']\n",
    "cot_ob_nm.shape"
   ]
  },
  {
   "cell_type": "code",
   "execution_count": 9,
   "metadata": {},
   "outputs": [
    {
     "data": {
      "text/plain": [
       "Index(['Demo_ID', '120_Days_After_Planting', '60_Days_After_Planting',\n",
       "       '90_Days_After_Planting', 'At_Harvest'],\n",
       "      dtype='object')"
      ]
     },
     "execution_count": 9,
     "metadata": {},
     "output_type": "execute_result"
    }
   ],
   "source": [
    "cot_f['con_demo_ID_Observation'] = cot_f['Demo_Id']+ cot_f['Observation_No_Cotton']\n",
    "cot_fl = cot_f.drop_duplicates(subset =\"con_demo_ID_Observation\", keep='last')\n",
    "\n",
    "cot_fl1= pd.pivot_table(cot_fl,values ='Name', columns ='Observation_No_Cotton',\n",
    "                        index = ['Demo_ID'], aggfunc={'Name':'count'})\n",
    "\n",
    "cot_fl2 = pd.DataFrame(cot_fl1.to_records())\n",
    "cleaning (cot_fl2)\n",
    "cot_fl2.fillna(0, inplace = True)\n",
    "cot_fl2.columns"
   ]
  },
  {
   "cell_type": "code",
   "execution_count": 10,
   "metadata": {},
   "outputs": [
    {
     "data": {
      "text/html": [
       "<div>\n",
       "<style scoped>\n",
       "    .dataframe tbody tr th:only-of-type {\n",
       "        vertical-align: middle;\n",
       "    }\n",
       "\n",
       "    .dataframe tbody tr th {\n",
       "        vertical-align: top;\n",
       "    }\n",
       "\n",
       "    .dataframe thead th {\n",
       "        text-align: right;\n",
       "    }\n",
       "</style>\n",
       "<table border=\"1\" class=\"dataframe\">\n",
       "  <thead>\n",
       "    <tr style=\"text-align: right;\">\n",
       "      <th></th>\n",
       "      <th>Demo_ID</th>\n",
       "      <th>120_Days_After_Planting_v1</th>\n",
       "      <th>60_Days_After_Planting_v1</th>\n",
       "      <th>90_Days_After_Planting_v1</th>\n",
       "      <th>At_Harvest_v1</th>\n",
       "    </tr>\n",
       "  </thead>\n",
       "  <tbody>\n",
       "    <tr>\n",
       "      <th>0</th>\n",
       "      <td>1007965</td>\n",
       "      <td>0</td>\n",
       "      <td>0.0</td>\n",
       "      <td>0.0</td>\n",
       "      <td>0.0</td>\n",
       "    </tr>\n",
       "    <tr>\n",
       "      <th>1</th>\n",
       "      <td>1008101</td>\n",
       "      <td>0</td>\n",
       "      <td>1.0</td>\n",
       "      <td>0.0</td>\n",
       "      <td>0.0</td>\n",
       "    </tr>\n",
       "    <tr>\n",
       "      <th>2</th>\n",
       "      <td>1008150</td>\n",
       "      <td>0</td>\n",
       "      <td>1.0</td>\n",
       "      <td>0.0</td>\n",
       "      <td>0.0</td>\n",
       "    </tr>\n",
       "    <tr>\n",
       "      <th>3</th>\n",
       "      <td>1008212</td>\n",
       "      <td>0</td>\n",
       "      <td>1.0</td>\n",
       "      <td>0.0</td>\n",
       "      <td>0.0</td>\n",
       "    </tr>\n",
       "    <tr>\n",
       "      <th>4</th>\n",
       "      <td>1008503</td>\n",
       "      <td>0</td>\n",
       "      <td>1.0</td>\n",
       "      <td>0.0</td>\n",
       "      <td>0.0</td>\n",
       "    </tr>\n",
       "  </tbody>\n",
       "</table>\n",
       "</div>"
      ],
      "text/plain": [
       "   Demo_ID  120_Days_After_Planting_v1  60_Days_After_Planting_v1  \\\n",
       "0  1007965                           0                        0.0   \n",
       "1  1008101                           0                        1.0   \n",
       "2  1008150                           0                        1.0   \n",
       "3  1008212                           0                        1.0   \n",
       "4  1008503                           0                        1.0   \n",
       "\n",
       "   90_Days_After_Planting_v1  At_Harvest_v1  \n",
       "0                        0.0            0.0  \n",
       "1                        0.0            0.0  \n",
       "2                        0.0            0.0  \n",
       "3                        0.0            0.0  \n",
       "4                        0.0            0.0  "
      ]
     },
     "execution_count": 10,
     "metadata": {},
     "output_type": "execute_result"
    }
   ],
   "source": [
    "\n",
    "cot_fl2['60_Days_After_Planting_v1'] = cot_fl2.apply(lambda row: 1.0 if ((row['60_Days_After_Planting']) == 1) and\n",
    "                                    ((row['90_Days_After_Planting']) < 1) and ((row['120_Days_After_Planting']) < 1) and \n",
    "                                            ((row['At_Harvest']) <1)\n",
    "                                        else 0 ,axis=1) \n",
    "\n",
    "\n",
    "cot_fl2['90_Days_After_Planting_v1'] = cot_fl2.apply(lambda row: 1.0 if ((row['60_Days_After_Planting']) == 1) and\n",
    "                                    ((row['90_Days_After_Planting']) == 1) and ((row['120_Days_After_Planting']) < 1) and \n",
    "                                             ((row['At_Harvest']) <1)\n",
    "                                     else 0 ,axis=1) \n",
    "\n",
    "\n",
    "cot_fl2['120_Days_After_Planting_v1'] = cot_fl2.apply(lambda row: 1.0 if ((row['60_Days_After_Planting']) == 1) and\n",
    "                                    ((row['90_Days_After_Planting']) == 1) and ((row['120_Days_After_Planting']) == 1) and \n",
    "                                               ((row['At_Harvest']) <1)\n",
    "                                     else 0 ,axis=1) \n",
    "\n",
    "\n",
    "cot_fl2['At_Harvest_v1'] = cot_fl2.apply(lambda row: 1.0 if ((row['60_Days_After_Planting']) == 1) and\n",
    "                                     ((row['90_Days_After_Planting']) == 1) and ((row['120_Days_After_Planting']) == 1) and \n",
    "                                                  ((row['At_Harvest']) ==1)\n",
    "                                        else 0 ,axis=1) \n",
    "\n",
    "\n",
    "cot_fl3=  pd.pivot_table(cot_fl2,values =['60_Days_After_Planting_v1','90_Days_After_Planting_v1',\n",
    "                                         '120_Days_After_Planting_v1','At_Harvest_v1'],\n",
    "                         index = ['Demo_ID'], aggfunc=np.sum)\n",
    "\n",
    "cot_fl4= pd.DataFrame(cot_fl3.to_records())\n",
    "cot_fl4.head()"
   ]
  },
  {
   "cell_type": "markdown",
   "metadata": {},
   "source": [
    "# Onion Observations"
   ]
  },
  {
   "cell_type": "code",
   "execution_count": 11,
   "metadata": {},
   "outputs": [
    {
     "data": {
      "text/plain": [
       "(5, 72)"
      ]
     },
     "execution_count": 11,
     "metadata": {},
     "output_type": "execute_result"
    }
   ],
   "source": [
    "path =r'D:\\Bizom\\Bizom Analysis\\Demo Analysis\\DemoFY21-22\\Crop_Observations\\Oni'\n",
    "onion_ob = pd.concat(map(pd.read_excel, glob.glob(os.path.join(path, \"*.xlsx\"))),sort=False)\n",
    "\n",
    "cleaning (onion_ob)\n",
    "droptest(onion_ob)\n",
    "observations(onion_ob)\n",
    "\n",
    "onion_f = oni_demo.merge(onion_ob,left_on= 'con', right_on = 'DemoID_OutletID')\n",
    "onion_f.shape\n"
   ]
  },
  {
   "cell_type": "code",
   "execution_count": 12,
   "metadata": {},
   "outputs": [
    {
     "data": {
      "text/plain": [
       "(2320, 110)"
      ]
     },
     "execution_count": 12,
     "metadata": {},
     "output_type": "execute_result"
    }
   ],
   "source": [
    "oni_ob_nm = onion_ob.merge(onion_f,left_on= 'DemoID_OutletID', right_on = 'DemoID_OutletID', how='outer',indicator=True)\n",
    "oni_ob_nm=oni_ob_nm[oni_ob_nm['_merge']=='left_only']\n",
    "oni_ob_nm.shape"
   ]
  },
  {
   "cell_type": "code",
   "execution_count": 13,
   "metadata": {},
   "outputs": [
    {
     "data": {
      "text/plain": [
       "Index(['Demo_ID', '30_Days_After_Planting', '60_Days_After_Planting',\n",
       "       '90_Days_After_Planting', 'At_Harvest'],\n",
       "      dtype='object')"
      ]
     },
     "execution_count": 13,
     "metadata": {},
     "output_type": "execute_result"
    }
   ],
   "source": [
    "onion_f['con_demo_ID_Observation'] = onion_f['Demo_Id']+ onion_f['Observation_No_Onion']\n",
    "onion_fl = onion_f.drop_duplicates(subset =\"con_demo_ID_Observation\", keep='last')\n",
    "\n",
    "\n",
    "onion_fl1= pd.pivot_table(onion_fl,values ='Name', columns ='Observation_No_Onion',\n",
    "                        index = ['Demo_ID'], aggfunc={'Name':'count'})\n",
    "\n",
    "oni_fl2 = pd.DataFrame(onion_fl1.to_records())\n",
    "cleaning (oni_fl2)\n",
    "oni_fl2.fillna(0, inplace = True)\n",
    "oni_fl2.columns\n"
   ]
  },
  {
   "cell_type": "code",
   "execution_count": 14,
   "metadata": {},
   "outputs": [
    {
     "data": {
      "text/html": [
       "<div>\n",
       "<style scoped>\n",
       "    .dataframe tbody tr th:only-of-type {\n",
       "        vertical-align: middle;\n",
       "    }\n",
       "\n",
       "    .dataframe tbody tr th {\n",
       "        vertical-align: top;\n",
       "    }\n",
       "\n",
       "    .dataframe thead th {\n",
       "        text-align: right;\n",
       "    }\n",
       "</style>\n",
       "<table border=\"1\" class=\"dataframe\">\n",
       "  <thead>\n",
       "    <tr style=\"text-align: right;\">\n",
       "      <th></th>\n",
       "      <th>Demo_ID</th>\n",
       "      <th>30_Days_After_Planting_v1</th>\n",
       "      <th>60_Days_After_Planting_v1</th>\n",
       "      <th>90_Days_After_Planting_v1</th>\n",
       "      <th>At_Harvest_v1</th>\n",
       "    </tr>\n",
       "  </thead>\n",
       "  <tbody>\n",
       "    <tr>\n",
       "      <th>0</th>\n",
       "      <td>97634298411</td>\n",
       "      <td>0</td>\n",
       "      <td>0</td>\n",
       "      <td>0</td>\n",
       "      <td>1.0</td>\n",
       "    </tr>\n",
       "  </tbody>\n",
       "</table>\n",
       "</div>"
      ],
      "text/plain": [
       "       Demo_ID  30_Days_After_Planting_v1  60_Days_After_Planting_v1  \\\n",
       "0  97634298411                          0                          0   \n",
       "\n",
       "   90_Days_After_Planting_v1  At_Harvest_v1  \n",
       "0                          0            1.0  "
      ]
     },
     "execution_count": 14,
     "metadata": {},
     "output_type": "execute_result"
    }
   ],
   "source": [
    "oni_fl2['30_Days_After_Planting_v1'] = oni_fl2.apply(lambda row: 1.0 if ((row['30_Days_After_Planting']) == 1) and\n",
    "                                                     ((row['60_Days_After_Planting']) < 1) and\n",
    "                                                     ((row['90_Days_After_Planting']) < 1) and\n",
    "                                                     ((row['At_Harvest']) <1) else 0 ,axis=1) \n",
    "\n",
    "oni_fl2['60_Days_After_Planting_v1'] = oni_fl2.apply(lambda row: 1.0 if ((row['30_Days_After_Planting']) == 1) and\n",
    "                                                     ((row['60_Days_After_Planting']) == 1) and\n",
    "                                                     ((row['90_Days_After_Planting']) < 1) and\n",
    "                                                     ((row['At_Harvest']) <1) else 0 ,axis=1) \n",
    "\n",
    "oni_fl2['90_Days_After_Planting_v1'] = oni_fl2.apply(lambda row: 1.0 if ((row['30_Days_After_Planting']) == 1) and\n",
    "                                                     ((row['60_Days_After_Planting']) == 1) and\n",
    "                                                     ((row['90_Days_After_Planting']) == 1) and\n",
    "                                                     ((row['At_Harvest']) <1) else 0 ,axis=1) \n",
    "\n",
    "oni_fl2['At_Harvest_v1'] = oni_fl2.apply(lambda row: 1.0 if ((row['30_Days_After_Planting']) == 1) and\n",
    "                                                     ((row['60_Days_After_Planting']) == 1) and\n",
    "                                                     ((row['90_Days_After_Planting']) == 1) and   \n",
    "                                                     ((row['At_Harvest']) ==1) else 0 ,axis=1) \n",
    "\n",
    "oni_fl3=  pd.pivot_table(oni_fl2,values =['30_Days_After_Planting_v1','60_Days_After_Planting_v1',\n",
    "                                         '90_Days_After_Planting_v1', 'At_Harvest_v1'], \n",
    "                                            index = ['Demo_ID'], aggfunc=np.sum)\n",
    "\n",
    "oni_fl4= pd.DataFrame(oni_fl3.to_records())\n",
    "oni_fl4.head()\n"
   ]
  },
  {
   "cell_type": "markdown",
   "metadata": {},
   "source": [
    "# Tomato Observations"
   ]
  },
  {
   "cell_type": "code",
   "execution_count": 15,
   "metadata": {},
   "outputs": [
    {
     "data": {
      "text/plain": [
       "(34, 76)"
      ]
     },
     "execution_count": 15,
     "metadata": {},
     "output_type": "execute_result"
    }
   ],
   "source": [
    "path =r'D:\\Bizom\\Bizom Analysis\\Demo Analysis\\DemoFY21-22\\Crop_Observations\\tom'\n",
    "tom_ob = pd.concat(map(pd.read_excel, glob.glob(os.path.join(path, \"*.xlsx\"))),sort=False)\n",
    "\n",
    "cleaning (tom_ob)\n",
    "observations(tom_ob)\n",
    "droptest(tom_ob)\n",
    "\n",
    "tom_f = tom_demo.merge(tom_ob,left_on= 'con', right_on = 'DemoID_OutletID')\n",
    "tom_f.shape\n"
   ]
  },
  {
   "cell_type": "code",
   "execution_count": 16,
   "metadata": {},
   "outputs": [
    {
     "data": {
      "text/plain": [
       "(94, 118)"
      ]
     },
     "execution_count": 16,
     "metadata": {},
     "output_type": "execute_result"
    }
   ],
   "source": [
    "tom_ob_nm = tom_ob.merge(tom_f,left_on= 'DemoID_OutletID', right_on = 'DemoID_OutletID', how='outer',indicator=True)\n",
    "tom_ob_nm=tom_ob_nm[tom_ob_nm['_merge']=='left_only']\n",
    "tom_ob_nm.shape"
   ]
  },
  {
   "cell_type": "code",
   "execution_count": 17,
   "metadata": {},
   "outputs": [
    {
     "data": {
      "text/plain": [
       "Index(['Demo_ID', '30_Days_After_Planting', '60_Days_After_Planting',\n",
       "       '90_Days_After_Planting', 'At_Harvest'],\n",
       "      dtype='object')"
      ]
     },
     "execution_count": 17,
     "metadata": {},
     "output_type": "execute_result"
    }
   ],
   "source": [
    "tom_f['con_demo_ID_Observation'] = tom_f['Demo_Id']+ tom_f['Observation_No_Tomato']\n",
    "tom_fl = tom_f.drop_duplicates(subset =\"con_demo_ID_Observation\", keep='last')\n",
    "\n",
    "tom_fl1= pd.pivot_table(tom_fl,values ='Name', columns ='Observation_No_Tomato',\n",
    "                          index = ['Demo_ID'],  aggfunc={'Name':'count'})\n",
    "\n",
    "tom_fl2 = pd.DataFrame(tom_fl1.to_records())\n",
    "cleaning(tom_fl2)\n",
    "tom_fl2.fillna(0, inplace = True)\n",
    "tom_fl2.columns"
   ]
  },
  {
   "cell_type": "code",
   "execution_count": 18,
   "metadata": {},
   "outputs": [
    {
     "data": {
      "text/html": [
       "<div>\n",
       "<style scoped>\n",
       "    .dataframe tbody tr th:only-of-type {\n",
       "        vertical-align: middle;\n",
       "    }\n",
       "\n",
       "    .dataframe tbody tr th {\n",
       "        vertical-align: top;\n",
       "    }\n",
       "\n",
       "    .dataframe thead th {\n",
       "        text-align: right;\n",
       "    }\n",
       "</style>\n",
       "<table border=\"1\" class=\"dataframe\">\n",
       "  <thead>\n",
       "    <tr style=\"text-align: right;\">\n",
       "      <th></th>\n",
       "      <th>Demo_ID</th>\n",
       "      <th>30_Days_After_Planting_v1</th>\n",
       "      <th>60_Days_After_Planting_v1</th>\n",
       "      <th>90_Days_After_Planting_v1</th>\n",
       "      <th>At_Harvest_v1</th>\n",
       "    </tr>\n",
       "  </thead>\n",
       "  <tbody>\n",
       "    <tr>\n",
       "      <th>0</th>\n",
       "      <td>1064439</td>\n",
       "      <td>1.0</td>\n",
       "      <td>0.0</td>\n",
       "      <td>0</td>\n",
       "      <td>0.0</td>\n",
       "    </tr>\n",
       "    <tr>\n",
       "      <th>1</th>\n",
       "      <td>1064443</td>\n",
       "      <td>1.0</td>\n",
       "      <td>0.0</td>\n",
       "      <td>0</td>\n",
       "      <td>0.0</td>\n",
       "    </tr>\n",
       "    <tr>\n",
       "      <th>2</th>\n",
       "      <td>1064454</td>\n",
       "      <td>1.0</td>\n",
       "      <td>0.0</td>\n",
       "      <td>0</td>\n",
       "      <td>0.0</td>\n",
       "    </tr>\n",
       "    <tr>\n",
       "      <th>3</th>\n",
       "      <td>1067817</td>\n",
       "      <td>1.0</td>\n",
       "      <td>0.0</td>\n",
       "      <td>0</td>\n",
       "      <td>0.0</td>\n",
       "    </tr>\n",
       "    <tr>\n",
       "      <th>4</th>\n",
       "      <td>1067842</td>\n",
       "      <td>1.0</td>\n",
       "      <td>0.0</td>\n",
       "      <td>0</td>\n",
       "      <td>0.0</td>\n",
       "    </tr>\n",
       "  </tbody>\n",
       "</table>\n",
       "</div>"
      ],
      "text/plain": [
       "   Demo_ID  30_Days_After_Planting_v1  60_Days_After_Planting_v1  \\\n",
       "0  1064439                        1.0                        0.0   \n",
       "1  1064443                        1.0                        0.0   \n",
       "2  1064454                        1.0                        0.0   \n",
       "3  1067817                        1.0                        0.0   \n",
       "4  1067842                        1.0                        0.0   \n",
       "\n",
       "   90_Days_After_Planting_v1  At_Harvest_v1  \n",
       "0                          0            0.0  \n",
       "1                          0            0.0  \n",
       "2                          0            0.0  \n",
       "3                          0            0.0  \n",
       "4                          0            0.0  "
      ]
     },
     "execution_count": 18,
     "metadata": {},
     "output_type": "execute_result"
    }
   ],
   "source": [
    "tom_fl2['30_Days_After_Planting_v1'] = tom_fl2.apply(lambda row: 1.0 if ((row['30_Days_After_Planting']) == 1) and\n",
    "                                                     ((row['60_Days_After_Planting']) < 1) and\n",
    "                                                     ((row['90_Days_After_Planting']) < 1) and\n",
    "                                                     ((row['At_Harvest']) <1) else 0 ,axis=1)\n",
    "\n",
    "tom_fl2['60_Days_After_Planting_v1'] = tom_fl2.apply(lambda row: 1.0 if ((row['30_Days_After_Planting']) == 1) and\n",
    "                                                     ((row['60_Days_After_Planting']) == 1) and\n",
    "                                                     ((row['90_Days_After_Planting']) < 1) and\n",
    "                                                     ((row['At_Harvest']) <1) else 0 ,axis=1) \n",
    "\n",
    "tom_fl2['90_Days_After_Planting_v1'] = tom_fl2.apply(lambda row: 1.0 if ((row['30_Days_After_Planting']) == 1) and\n",
    "                                                     ((row['60_Days_After_Planting']) == 1) and\n",
    "                                                     ((row['90_Days_After_Planting']) == 1) and\n",
    "                                                     ((row['At_Harvest']) <1) else 0 ,axis=1) \n",
    "\n",
    "tom_fl2['At_Harvest_v1'] = tom_fl2.apply(lambda row: 1.0 if ((row['30_Days_After_Planting']) == 1) and\n",
    "                                                     ((row['60_Days_After_Planting']) == 1) and\n",
    "                                                     ((row['90_Days_After_Planting']) == 1) and   \n",
    "                                                     ((row['At_Harvest']) ==1) else 0 ,axis=1)  \n",
    "\n",
    "\n",
    "tom_fl3=  pd.pivot_table(tom_fl2,values =['30_Days_After_Planting_v1','60_Days_After_Planting_v1','90_Days_After_Planting_v1',\n",
    "                                         'At_Harvest_v1'], index = ['Demo_ID'], aggfunc=np.sum)\n",
    "\n",
    "tom_fl4= pd.DataFrame(tom_fl3.to_records())\n",
    "tom_fl4.head()"
   ]
  },
  {
   "cell_type": "markdown",
   "metadata": {},
   "source": [
    "# Soybean Observations"
   ]
  },
  {
   "cell_type": "code",
   "execution_count": 19,
   "metadata": {},
   "outputs": [
    {
     "data": {
      "text/plain": [
       "(889, 67)"
      ]
     },
     "execution_count": 19,
     "metadata": {},
     "output_type": "execute_result"
    }
   ],
   "source": [
    "path =r'D:\\Bizom\\Bizom Analysis\\Demo Analysis\\DemoFY21-22\\Crop_Observations\\soy'\n",
    "soy_ob = pd.concat(map(pd.read_excel, glob.glob(os.path.join(path, \"*.xlsx\"))),sort=False)\n",
    "\n",
    "cleaning (soy_ob)\n",
    "observations(soy_ob)\n",
    "droptest(soy_ob)\n",
    "\n",
    "soy_f = soy_demo.merge(soy_ob,left_on= 'con', right_on = 'DemoID_OutletID')\n",
    "soy_f.shape"
   ]
  },
  {
   "cell_type": "code",
   "execution_count": 20,
   "metadata": {},
   "outputs": [
    {
     "data": {
      "text/plain": [
       "(283, 100)"
      ]
     },
     "execution_count": 20,
     "metadata": {},
     "output_type": "execute_result"
    }
   ],
   "source": [
    "soy_ob_nm = soy_ob.merge(soy_f,left_on= 'DemoID_OutletID', right_on = 'DemoID_OutletID', how='outer',indicator=True)\n",
    "soy_ob_nm=soy_ob_nm[soy_ob_nm['_merge']=='left_only']\n",
    "soy_ob_nm.shape"
   ]
  },
  {
   "cell_type": "code",
   "execution_count": 21,
   "metadata": {},
   "outputs": [
    {
     "data": {
      "text/plain": [
       "Index(['Demo_ID', '30_Days_After_Planting', '90_Days_After_Planting',\n",
       "       'At_Harvest'],\n",
       "      dtype='object')"
      ]
     },
     "execution_count": 21,
     "metadata": {},
     "output_type": "execute_result"
    }
   ],
   "source": [
    "soy_f['con_demo_ID_Observation'] = soy_f['Demo_Id']+ soy_f['Demo_Crop__Soybean']\n",
    "soy_fl = soy_f.drop_duplicates(subset =\"con_demo_ID_Observation\", keep='last')\n",
    "\n",
    "soy_fl1= pd.pivot_table(soy_fl,values ='Name', columns ='Demo_Crop__Soybean',\n",
    "                        index = ['Demo_ID'], aggfunc={'Name':'count'})\n",
    "\n",
    "soy_fl2 = pd.DataFrame(soy_fl1.to_records())\n",
    "\n",
    "soy_fl2.fillna(0, inplace = True)\n",
    "cleaning(soy_fl2)\n",
    "soy_fl2.columns\n"
   ]
  },
  {
   "cell_type": "code",
   "execution_count": 61,
   "metadata": {},
   "outputs": [
    {
     "data": {
      "text/html": [
       "<div>\n",
       "<style scoped>\n",
       "    .dataframe tbody tr th:only-of-type {\n",
       "        vertical-align: middle;\n",
       "    }\n",
       "\n",
       "    .dataframe tbody tr th {\n",
       "        vertical-align: top;\n",
       "    }\n",
       "\n",
       "    .dataframe thead th {\n",
       "        text-align: right;\n",
       "    }\n",
       "</style>\n",
       "<table border=\"1\" class=\"dataframe\">\n",
       "  <thead>\n",
       "    <tr style=\"text-align: right;\">\n",
       "      <th></th>\n",
       "      <th>Demo_ID</th>\n",
       "      <th>30_Days_After_Planting_v1</th>\n",
       "      <th>90_Days_After_Planting_v1</th>\n",
       "      <th>At_Harvest_v1</th>\n",
       "    </tr>\n",
       "  </thead>\n",
       "  <tbody>\n",
       "    <tr>\n",
       "      <th>0</th>\n",
       "      <td>1003443</td>\n",
       "      <td>0.0</td>\n",
       "      <td>1.0</td>\n",
       "      <td>0.0</td>\n",
       "    </tr>\n",
       "    <tr>\n",
       "      <th>1</th>\n",
       "      <td>1003522</td>\n",
       "      <td>0.0</td>\n",
       "      <td>0.0</td>\n",
       "      <td>0.0</td>\n",
       "    </tr>\n",
       "    <tr>\n",
       "      <th>2</th>\n",
       "      <td>1003593</td>\n",
       "      <td>0.0</td>\n",
       "      <td>1.0</td>\n",
       "      <td>0.0</td>\n",
       "    </tr>\n",
       "    <tr>\n",
       "      <th>3</th>\n",
       "      <td>1003658</td>\n",
       "      <td>1.0</td>\n",
       "      <td>0.0</td>\n",
       "      <td>0.0</td>\n",
       "    </tr>\n",
       "    <tr>\n",
       "      <th>4</th>\n",
       "      <td>1003688</td>\n",
       "      <td>0.0</td>\n",
       "      <td>0.0</td>\n",
       "      <td>0.0</td>\n",
       "    </tr>\n",
       "  </tbody>\n",
       "</table>\n",
       "</div>"
      ],
      "text/plain": [
       "   Demo_ID  30_Days_After_Planting_v1  90_Days_After_Planting_v1  \\\n",
       "0  1003443                        0.0                        1.0   \n",
       "1  1003522                        0.0                        0.0   \n",
       "2  1003593                        0.0                        1.0   \n",
       "3  1003658                        1.0                        0.0   \n",
       "4  1003688                        0.0                        0.0   \n",
       "\n",
       "   At_Harvest_v1  \n",
       "0            0.0  \n",
       "1            0.0  \n",
       "2            0.0  \n",
       "3            0.0  \n",
       "4            0.0  "
      ]
     },
     "execution_count": 61,
     "metadata": {},
     "output_type": "execute_result"
    }
   ],
   "source": [
    "soy_fl2['30_Days_After_Planting_v1'] = soy_fl2.apply(lambda row: 1.0 if ((row['30_Days_After_Planting']) == 1) and\n",
    "                                     ((row['90_Days_After_Planting']) < 1) and\n",
    "                                    ((row['At_Harvest']) <1)\n",
    "                                        else 0 ,axis=1) \n",
    "\n",
    "soy_fl2['90_Days_After_Planting_v1'] = soy_fl2.apply(lambda row: 1.0 if ((row['30_Days_After_Planting']) == 1) and\n",
    "                                     ((row['90_Days_After_Planting']) == 1) and ((row['At_Harvest']) <1)\n",
    "                                        else 0 ,axis=1) \n",
    "\n",
    "soy_fl2['At_Harvest_v1'] = soy_fl2.apply(lambda row: 1.0 if ((row['30_Days_After_Planting']) == 1) and\n",
    "                                     ((row['90_Days_After_Planting']) == 1) and ((row['At_Harvest']) == 1)\n",
    "                                        else 0 ,axis=1) \n",
    "\n",
    "soy_fl3=  pd.pivot_table(soy_fl2,values =['30_Days_After_Planting_v1','90_Days_After_Planting_v1','At_Harvest_v1'],\n",
    "                         index = ['Demo_ID'], aggfunc=np.sum)\n",
    "\n",
    "soy_fl4= pd.DataFrame(soy_fl3.to_records())\n",
    "soy_fl4.head()\n"
   ]
  },
  {
   "cell_type": "markdown",
   "metadata": {},
   "source": [
    "# Groundnut Observations"
   ]
  },
  {
   "cell_type": "code",
   "execution_count": 23,
   "metadata": {},
   "outputs": [
    {
     "data": {
      "text/plain": [
       "(2, 59)"
      ]
     },
     "execution_count": 23,
     "metadata": {},
     "output_type": "execute_result"
    }
   ],
   "source": [
    "path =r'D:\\Bizom\\Bizom Analysis\\Demo Analysis\\DemoFY21-22\\Crop_Observations\\gnut'\n",
    "gnut_ob = pd.concat(map(pd.read_excel, glob.glob(os.path.join(path, \"*.xlsx\"))),sort=False)\n",
    "\n",
    "cleaning (gnut_ob)\n",
    "observations(gnut_ob)\n",
    "droptest(gnut_ob)\n",
    "\n",
    "gnut_f = gnut_demo.merge(gnut_ob,left_on= 'con', right_on = 'DemoID_OutletID')\n",
    "gnut_f.shape"
   ]
  },
  {
   "cell_type": "code",
   "execution_count": 24,
   "metadata": {},
   "outputs": [
    {
     "data": {
      "text/plain": [
       "(420, 84)"
      ]
     },
     "execution_count": 24,
     "metadata": {},
     "output_type": "execute_result"
    }
   ],
   "source": [
    "gnut_ob_nm = gnut_ob.merge(gnut_f,left_on= 'DemoID_OutletID', right_on = 'DemoID_OutletID', how='outer',indicator=True)\n",
    "gnut_ob_nm=gnut_ob_nm[gnut_ob_nm['_merge']=='left_only']\n",
    "gnut_ob_nm.shape"
   ]
  },
  {
   "cell_type": "code",
   "execution_count": 25,
   "metadata": {},
   "outputs": [
    {
     "data": {
      "text/plain": [
       "Index(['Demo_ID', '60_Days_After_Planting', 'At_Harvest'], dtype='object')"
      ]
     },
     "execution_count": 25,
     "metadata": {},
     "output_type": "execute_result"
    }
   ],
   "source": [
    "gnut_f['con_demo_ID_Observation'] = gnut_f['Demo_Id']+ gnut_f['Demo_Crop__Groundnut']\n",
    "gnut_fl = gnut_f.drop_duplicates(subset =\"con_demo_ID_Observation\", keep='last')\n",
    "\n",
    "gnut_fl1= pd.pivot_table(gnut_fl,values ='Name', columns ='Demo_Crop__Groundnut',\n",
    "                          index = ['Demo_ID'],  aggfunc={'Name':'count'})\n",
    "\n",
    "gnut_fl2 = pd.DataFrame(gnut_fl1.to_records())\n",
    "gnut_fl2.fillna(0, inplace = True)\n",
    "cleaning(gnut_fl2)\n",
    "gnut_fl2.columns"
   ]
  },
  {
   "cell_type": "code",
   "execution_count": 26,
   "metadata": {},
   "outputs": [
    {
     "data": {
      "text/html": [
       "<div>\n",
       "<style scoped>\n",
       "    .dataframe tbody tr th:only-of-type {\n",
       "        vertical-align: middle;\n",
       "    }\n",
       "\n",
       "    .dataframe tbody tr th {\n",
       "        vertical-align: top;\n",
       "    }\n",
       "\n",
       "    .dataframe thead th {\n",
       "        text-align: right;\n",
       "    }\n",
       "</style>\n",
       "<table border=\"1\" class=\"dataframe\">\n",
       "  <thead>\n",
       "    <tr style=\"text-align: right;\">\n",
       "      <th></th>\n",
       "      <th>Demo_ID</th>\n",
       "      <th>60_Days_After_Planting_v1</th>\n",
       "      <th>At_Harvest_v1</th>\n",
       "    </tr>\n",
       "  </thead>\n",
       "  <tbody>\n",
       "    <tr>\n",
       "      <th>0</th>\n",
       "      <td>97634298415</td>\n",
       "      <td>0</td>\n",
       "      <td>1.0</td>\n",
       "    </tr>\n",
       "  </tbody>\n",
       "</table>\n",
       "</div>"
      ],
      "text/plain": [
       "       Demo_ID  60_Days_After_Planting_v1  At_Harvest_v1\n",
       "0  97634298415                          0            1.0"
      ]
     },
     "execution_count": 26,
     "metadata": {},
     "output_type": "execute_result"
    }
   ],
   "source": [
    "gnut_fl2['60_Days_After_Planting_v1'] = gnut_fl2.apply(lambda row: 1.0 if ((row['60_Days_After_Planting']) == 1) \n",
    "                                                       and((row['At_Harvest']) <1) else 0 ,axis=1) \n",
    "\n",
    "gnut_fl2['At_Harvest_v1'] = gnut_fl2.apply(lambda row: 1.0 if ((row['60_Days_After_Planting']) == 1) and\n",
    "                                        ((row['At_Harvest']) == 1) else 0 ,axis=1) \n",
    "\n",
    "\n",
    "gnut_fl3=  pd.pivot_table(gnut_fl2,values =['60_Days_After_Planting_v1','At_Harvest_v1'],index = ['Demo_ID'], aggfunc=np.sum)\n",
    "\n",
    "\n",
    "gnut_fl4= pd.DataFrame(gnut_fl3.to_records())\n",
    "gnut_fl4.head()"
   ]
  },
  {
   "cell_type": "markdown",
   "metadata": {},
   "source": [
    "# Sugarcane Observations"
   ]
  },
  {
   "cell_type": "code",
   "execution_count": 27,
   "metadata": {},
   "outputs": [
    {
     "data": {
      "text/plain": [
       "(23, 74)"
      ]
     },
     "execution_count": 27,
     "metadata": {},
     "output_type": "execute_result"
    }
   ],
   "source": [
    "path =r'D:\\Bizom\\Bizom Analysis\\Demo Analysis\\DemoFY21-22\\Crop_Observations\\scane'\n",
    "scane_ob = pd.concat(map(pd.read_excel, glob.glob(os.path.join(path, \"*.xlsx\"))),sort=False)\n",
    "\n",
    "cleaning (scane_ob)\n",
    "observations(scane_ob)\n",
    "droptest(scane_ob)\n",
    "\n",
    "scane_f = scane_demo.merge(scane_ob,left_on= 'con', right_on = 'DemoID_OutletID')\n",
    "scane_f.shape"
   ]
  },
  {
   "cell_type": "code",
   "execution_count": 28,
   "metadata": {},
   "outputs": [
    {
     "data": {
      "text/plain": [
       "(1669, 114)"
      ]
     },
     "execution_count": 28,
     "metadata": {},
     "output_type": "execute_result"
    }
   ],
   "source": [
    "scane_ob_nm = scane_ob.merge(scane_f,left_on= 'DemoID_OutletID', right_on = 'DemoID_OutletID', how='outer',indicator=True)\n",
    "scane_ob_nm=scane_ob_nm[scane_ob_nm['_merge']=='left_only']\n",
    "scane_ob_nm.shape"
   ]
  },
  {
   "cell_type": "code",
   "execution_count": 29,
   "metadata": {},
   "outputs": [
    {
     "data": {
      "text/plain": [
       "Index(['Demo_ID', '.', '120_Days_After_Planting', '150_Days_After_Planting',\n",
       "       '90_Days_After_Planting', 'At_Harvest'],\n",
       "      dtype='object')"
      ]
     },
     "execution_count": 29,
     "metadata": {},
     "output_type": "execute_result"
    }
   ],
   "source": [
    "scane_f['con_demo_ID_Observation'] = scane_f['Demo_Id']+ scane_f['Observation_No_Sugarcane']\n",
    "scane_fl = scane_f.drop_duplicates(subset =\"con_demo_ID_Observation\", keep='last')\n",
    "\n",
    "scane_fl1= pd.pivot_table(scane_fl,values ='Name', columns ='Observation_No_Sugarcane',\n",
    "                          index = ['Demo_ID'],  aggfunc={'Name':'count'})\n",
    "\n",
    "scane_fl2 = pd.DataFrame(scane_fl1.to_records())\n",
    "scane_fl2.fillna(0, inplace = True)\n",
    "cleaning(scane_fl2)\n",
    "scane_fl2.columns"
   ]
  },
  {
   "cell_type": "code",
   "execution_count": 30,
   "metadata": {},
   "outputs": [
    {
     "data": {
      "text/html": [
       "<div>\n",
       "<style scoped>\n",
       "    .dataframe tbody tr th:only-of-type {\n",
       "        vertical-align: middle;\n",
       "    }\n",
       "\n",
       "    .dataframe tbody tr th {\n",
       "        vertical-align: top;\n",
       "    }\n",
       "\n",
       "    .dataframe thead th {\n",
       "        text-align: right;\n",
       "    }\n",
       "</style>\n",
       "<table border=\"1\" class=\"dataframe\">\n",
       "  <thead>\n",
       "    <tr style=\"text-align: right;\">\n",
       "      <th></th>\n",
       "      <th>Demo_ID</th>\n",
       "      <th>120_Days_After_Planting_v1</th>\n",
       "      <th>150_Days_After_Planting_v1</th>\n",
       "      <th>90_Days_After_Planting_v1</th>\n",
       "    </tr>\n",
       "  </thead>\n",
       "  <tbody>\n",
       "    <tr>\n",
       "      <th>0</th>\n",
       "      <td>1049581</td>\n",
       "      <td>0</td>\n",
       "      <td>0.0</td>\n",
       "      <td>0.0</td>\n",
       "    </tr>\n",
       "    <tr>\n",
       "      <th>1</th>\n",
       "      <td>1050068</td>\n",
       "      <td>0</td>\n",
       "      <td>0.0</td>\n",
       "      <td>0.0</td>\n",
       "    </tr>\n",
       "    <tr>\n",
       "      <th>2</th>\n",
       "      <td>1070639</td>\n",
       "      <td>0</td>\n",
       "      <td>0.0</td>\n",
       "      <td>0.0</td>\n",
       "    </tr>\n",
       "    <tr>\n",
       "      <th>3</th>\n",
       "      <td>1070691</td>\n",
       "      <td>0</td>\n",
       "      <td>0.0</td>\n",
       "      <td>0.0</td>\n",
       "    </tr>\n",
       "    <tr>\n",
       "      <th>4</th>\n",
       "      <td>1076557</td>\n",
       "      <td>0</td>\n",
       "      <td>0.0</td>\n",
       "      <td>1.0</td>\n",
       "    </tr>\n",
       "  </tbody>\n",
       "</table>\n",
       "</div>"
      ],
      "text/plain": [
       "   Demo_ID  120_Days_After_Planting_v1  150_Days_After_Planting_v1  \\\n",
       "0  1049581                           0                         0.0   \n",
       "1  1050068                           0                         0.0   \n",
       "2  1070639                           0                         0.0   \n",
       "3  1070691                           0                         0.0   \n",
       "4  1076557                           0                         0.0   \n",
       "\n",
       "   90_Days_After_Planting_v1  \n",
       "0                        0.0  \n",
       "1                        0.0  \n",
       "2                        0.0  \n",
       "3                        0.0  \n",
       "4                        1.0  "
      ]
     },
     "execution_count": 30,
     "metadata": {},
     "output_type": "execute_result"
    }
   ],
   "source": [
    "scane_fl2['90_Days_After_Planting_v1'] = scane_fl2.apply(lambda row: 1.0 if ((row['90_Days_After_Planting']) == 1) and\n",
    "                                         ((row['120_Days_After_Planting']) <1) and\n",
    "                                         ((row['150_Days_After_Planting']) <1) else 0 ,axis=1) \n",
    "\n",
    "scane_fl2['120_Days_After_Planting_v1'] = scane_fl2.apply(lambda row: 1.0 if ((row['90_Days_After_Planting']) == 1) and\n",
    "                                         ((row['120_Days_After_Planting']) == 1) and\n",
    "                                         ((row['150_Days_After_Planting']) <1) else 0 ,axis=1) \n",
    "\n",
    "scane_fl2['150_Days_After_Planting_v1'] = scane_fl2.apply(lambda row: 1.0 if ((row['90_Days_After_Planting']) == 1) and\n",
    "                                         ((row['120_Days_After_Planting']) == 1) and\n",
    "                                         ((row['150_Days_After_Planting']) == 1)  else 0 ,axis=1) \n",
    "\n",
    "scane_fl3=  pd.pivot_table(scane_fl2,values =['90_Days_After_Planting_v1','120_Days_After_Planting_v1', \n",
    "                                              '150_Days_After_Planting_v1' ], index = ['Demo_ID'], aggfunc=np.sum)\n",
    "\n",
    "scane_fl4= pd.DataFrame(scane_fl3.to_records())\n",
    "scane_fl4.head()"
   ]
  },
  {
   "cell_type": "markdown",
   "metadata": {},
   "source": [
    "# Paddy Observations"
   ]
  },
  {
   "cell_type": "code",
   "execution_count": 31,
   "metadata": {},
   "outputs": [
    {
     "data": {
      "text/plain": [
       "(13, 59)"
      ]
     },
     "execution_count": 31,
     "metadata": {},
     "output_type": "execute_result"
    }
   ],
   "source": [
    "path =r'D:\\Bizom\\Bizom Analysis\\Demo Analysis\\DemoFY21-22\\Crop_Observations\\paddy'\n",
    "paddy_ob = pd.concat(map(pd.read_excel, glob.glob(os.path.join(path, \"*.xlsx\"))),sort=False)\n",
    "\n",
    "cleaning (paddy_ob)\n",
    "observations(paddy_ob)\n",
    "droptest(paddy_ob)\n",
    "\n",
    "paddy_f = paddy_demo.merge(paddy_ob,left_on= 'con', right_on = 'DemoID_OutletID')\n",
    "paddy_f.shape"
   ]
  },
  {
   "cell_type": "code",
   "execution_count": 32,
   "metadata": {},
   "outputs": [
    {
     "data": {
      "text/plain": [
       "(198, 84)"
      ]
     },
     "execution_count": 32,
     "metadata": {},
     "output_type": "execute_result"
    }
   ],
   "source": [
    "paddy_ob_nm = paddy_ob.merge(paddy_f,left_on= 'DemoID_OutletID', right_on = 'DemoID_OutletID', how='outer',indicator=True)\n",
    "paddy_ob_nm=paddy_ob_nm[paddy_ob_nm['_merge']=='left_only']\n",
    "paddy_ob_nm.shape"
   ]
  },
  {
   "cell_type": "code",
   "execution_count": 33,
   "metadata": {},
   "outputs": [
    {
     "data": {
      "text/plain": [
       "Index(['Demo_ID', '60_Days_After_Planting', 'At_Harvest'], dtype='object')"
      ]
     },
     "execution_count": 33,
     "metadata": {},
     "output_type": "execute_result"
    }
   ],
   "source": [
    "paddy_f['con_demo_ID_Observation'] = paddy_f['Demo_Id']+ paddy_f['Demo_Crop___Paddy']\n",
    "paddy_fl = paddy_f.drop_duplicates(subset =\"con_demo_ID_Observation\", keep='last')\n",
    "\n",
    "paddy_fl1= pd.pivot_table(paddy_fl,values ='Name', columns ='Demo_Crop___Paddy',\n",
    "                          index = ['Demo_ID'],aggfunc={'Name':'count'})\n",
    "\n",
    "paddy_fl2 = pd.DataFrame(paddy_fl1.to_records())\n",
    "\n",
    "paddy_fl2.fillna(0, inplace = True)\n",
    "cleaning(paddy_fl2)\n",
    "paddy_fl2.columns"
   ]
  },
  {
   "cell_type": "code",
   "execution_count": 60,
   "metadata": {},
   "outputs": [
    {
     "data": {
      "text/html": [
       "<div>\n",
       "<style scoped>\n",
       "    .dataframe tbody tr th:only-of-type {\n",
       "        vertical-align: middle;\n",
       "    }\n",
       "\n",
       "    .dataframe tbody tr th {\n",
       "        vertical-align: top;\n",
       "    }\n",
       "\n",
       "    .dataframe thead th {\n",
       "        text-align: right;\n",
       "    }\n",
       "</style>\n",
       "<table border=\"1\" class=\"dataframe\">\n",
       "  <thead>\n",
       "    <tr style=\"text-align: right;\">\n",
       "      <th></th>\n",
       "      <th>Demo_ID</th>\n",
       "      <th>60_Days_After_Planting_v1</th>\n",
       "      <th>At_Harvest_v1</th>\n",
       "    </tr>\n",
       "  </thead>\n",
       "  <tbody>\n",
       "    <tr>\n",
       "      <th>0</th>\n",
       "      <td>1188769</td>\n",
       "      <td>1.0</td>\n",
       "      <td>0.0</td>\n",
       "    </tr>\n",
       "    <tr>\n",
       "      <th>1</th>\n",
       "      <td>1190575</td>\n",
       "      <td>1.0</td>\n",
       "      <td>0.0</td>\n",
       "    </tr>\n",
       "    <tr>\n",
       "      <th>2</th>\n",
       "      <td>1237289</td>\n",
       "      <td>1.0</td>\n",
       "      <td>0.0</td>\n",
       "    </tr>\n",
       "    <tr>\n",
       "      <th>3</th>\n",
       "      <td>1237465</td>\n",
       "      <td>1.0</td>\n",
       "      <td>0.0</td>\n",
       "    </tr>\n",
       "    <tr>\n",
       "      <th>4</th>\n",
       "      <td>1237596</td>\n",
       "      <td>1.0</td>\n",
       "      <td>0.0</td>\n",
       "    </tr>\n",
       "  </tbody>\n",
       "</table>\n",
       "</div>"
      ],
      "text/plain": [
       "   Demo_ID  60_Days_After_Planting_v1  At_Harvest_v1\n",
       "0  1188769                        1.0            0.0\n",
       "1  1190575                        1.0            0.0\n",
       "2  1237289                        1.0            0.0\n",
       "3  1237465                        1.0            0.0\n",
       "4  1237596                        1.0            0.0"
      ]
     },
     "execution_count": 60,
     "metadata": {},
     "output_type": "execute_result"
    }
   ],
   "source": [
    "paddy_fl2['60_Days_After_Planting_v1'] = paddy_fl2.apply(lambda row: 1.0 if ((row['60_Days_After_Planting']) == 1) and\n",
    "                                        ((row['At_Harvest']) < 1) else 0 ,axis=1) \n",
    "\n",
    "paddy_fl2['At_Harvest_v1'] = paddy_fl2.apply(lambda row: 1.0 if ((row['60_Days_After_Planting']) == 1) and\n",
    "                                        ((row['At_Harvest']) ==1) else 0 ,axis=1) \n",
    "\n",
    "\n",
    "paddy_fl3=  pd.pivot_table(paddy_fl2,values =['60_Days_After_Planting_v1','At_Harvest_v1'],index = ['Demo_ID'], aggfunc=np.sum)\n",
    "paddy_fl4= pd.DataFrame(paddy_fl3.to_records())\n",
    "paddy_fl4.head()"
   ]
  },
  {
   "cell_type": "markdown",
   "metadata": {},
   "source": [
    "# Maize Observations"
   ]
  },
  {
   "cell_type": "code",
   "execution_count": 35,
   "metadata": {},
   "outputs": [
    {
     "data": {
      "text/plain": [
       "(83, 66)"
      ]
     },
     "execution_count": 35,
     "metadata": {},
     "output_type": "execute_result"
    }
   ],
   "source": [
    "path =r'D:\\Bizom\\Bizom Analysis\\Demo Analysis\\DemoFY21-22\\Crop_Observations\\maize'\n",
    "maize_ob = pd.concat(map(pd.read_excel, glob.glob(os.path.join(path, \"*.xlsx\"))),sort=False)\n",
    "\n",
    "cleaning (maize_ob)\n",
    "observations(maize_ob)\n",
    "droptest(maize_ob)\n",
    "\n",
    "maize_f = maize_demo.merge(maize_ob,left_on= 'con', right_on = 'DemoID_OutletID')\n",
    "maize_f.shape"
   ]
  },
  {
   "cell_type": "code",
   "execution_count": 36,
   "metadata": {},
   "outputs": [
    {
     "data": {
      "text/plain": [
       "(43, 98)"
      ]
     },
     "execution_count": 36,
     "metadata": {},
     "output_type": "execute_result"
    }
   ],
   "source": [
    "maize_ob_nm = maize_ob.merge(maize_f,left_on= 'DemoID_OutletID', right_on = 'DemoID_OutletID', how='outer',indicator=True)\n",
    "maize_ob_nm=maize_ob_nm[maize_ob_nm['_merge']=='left_only']\n",
    "maize_ob_nm.shape"
   ]
  },
  {
   "cell_type": "code",
   "execution_count": 37,
   "metadata": {},
   "outputs": [
    {
     "data": {
      "text/plain": [
       "Index(['Demo_ID', '30_Days_After_Planting', '60_Days_After_Planting',\n",
       "       'At_Harvest'],\n",
       "      dtype='object')"
      ]
     },
     "execution_count": 37,
     "metadata": {},
     "output_type": "execute_result"
    }
   ],
   "source": [
    "maize_f['con_demo_ID_Observation'] = maize_f['Demo_Id']+ maize_f['Observation_No_Maize']\n",
    "maize_fl = maize_f.drop_duplicates(subset =\"con_demo_ID_Observation\", keep='last')\n",
    "\n",
    "maize_fl1= pd.pivot_table(maize_fl,values ='Name', columns ='Observation_No_Maize',\n",
    "                          index = ['Demo_ID'],  aggfunc={'Name':'count'})\n",
    "\n",
    "maize_fl2 = pd.DataFrame(maize_fl1.to_records())\n",
    "\n",
    "maize_fl2.fillna(0, inplace = True)\n",
    "cleaning(maize_fl2)\n",
    "maize_fl2.columns"
   ]
  },
  {
   "cell_type": "code",
   "execution_count": 38,
   "metadata": {},
   "outputs": [
    {
     "data": {
      "text/html": [
       "<div>\n",
       "<style scoped>\n",
       "    .dataframe tbody tr th:only-of-type {\n",
       "        vertical-align: middle;\n",
       "    }\n",
       "\n",
       "    .dataframe tbody tr th {\n",
       "        vertical-align: top;\n",
       "    }\n",
       "\n",
       "    .dataframe thead th {\n",
       "        text-align: right;\n",
       "    }\n",
       "</style>\n",
       "<table border=\"1\" class=\"dataframe\">\n",
       "  <thead>\n",
       "    <tr style=\"text-align: right;\">\n",
       "      <th></th>\n",
       "      <th>Demo_ID</th>\n",
       "      <th>30_Days_After_Planting_v1</th>\n",
       "      <th>60_Days_After_Planting_v1</th>\n",
       "      <th>At_Harvest_v1</th>\n",
       "    </tr>\n",
       "  </thead>\n",
       "  <tbody>\n",
       "    <tr>\n",
       "      <th>0</th>\n",
       "      <td>1049550</td>\n",
       "      <td>0</td>\n",
       "      <td>1.0</td>\n",
       "      <td>0.0</td>\n",
       "    </tr>\n",
       "    <tr>\n",
       "      <th>1</th>\n",
       "      <td>1060685</td>\n",
       "      <td>0</td>\n",
       "      <td>1.0</td>\n",
       "      <td>0.0</td>\n",
       "    </tr>\n",
       "    <tr>\n",
       "      <th>2</th>\n",
       "      <td>1060687</td>\n",
       "      <td>0</td>\n",
       "      <td>1.0</td>\n",
       "      <td>0.0</td>\n",
       "    </tr>\n",
       "    <tr>\n",
       "      <th>3</th>\n",
       "      <td>1061534</td>\n",
       "      <td>0</td>\n",
       "      <td>1.0</td>\n",
       "      <td>0.0</td>\n",
       "    </tr>\n",
       "    <tr>\n",
       "      <th>4</th>\n",
       "      <td>1061536</td>\n",
       "      <td>0</td>\n",
       "      <td>1.0</td>\n",
       "      <td>0.0</td>\n",
       "    </tr>\n",
       "  </tbody>\n",
       "</table>\n",
       "</div>"
      ],
      "text/plain": [
       "   Demo_ID  30_Days_After_Planting_v1  60_Days_After_Planting_v1  \\\n",
       "0  1049550                          0                        1.0   \n",
       "1  1060685                          0                        1.0   \n",
       "2  1060687                          0                        1.0   \n",
       "3  1061534                          0                        1.0   \n",
       "4  1061536                          0                        1.0   \n",
       "\n",
       "   At_Harvest_v1  \n",
       "0            0.0  \n",
       "1            0.0  \n",
       "2            0.0  \n",
       "3            0.0  \n",
       "4            0.0  "
      ]
     },
     "execution_count": 38,
     "metadata": {},
     "output_type": "execute_result"
    }
   ],
   "source": [
    "maize_fl2['30_Days_After_Planting_v1'] = maize_fl2.apply(lambda row: 1.0 if ((row['30_Days_After_Planting']) == 1) and\n",
    "                                                     ((row['60_Days_After_Planting']) < 1)and\n",
    "                                                     ((row['At_Harvest']) < 1)\n",
    "                                                         else 0 ,axis=1) \n",
    "\n",
    "maize_fl2['60_Days_After_Planting_v1'] = maize_fl2.apply(lambda row: 1.0 if ((row['30_Days_After_Planting']) == 1) and\n",
    "                                                     ((row['60_Days_After_Planting']) == 1)and\n",
    "                                                     ((row['At_Harvest']) <1)  else 0 ,axis=1) \n",
    "\n",
    "maize_fl2['At_Harvest_v1'] = maize_fl2.apply(lambda row: 1.0 if ((row['30_Days_After_Planting']) == 1) and\n",
    "                                                   ((row['60_Days_After_Planting']) == 1) and\n",
    "                                                     ((row['At_Harvest']) ==1) else 0 ,axis=1) \n",
    "maize_fl2['Crop'] = 'maize'\n",
    "maize_fl3=  pd.pivot_table(maize_fl2,values =['30_Days_After_Planting_v1','60_Days_After_Planting_v1','At_Harvest_v1'], \n",
    "                                            index = ['Demo_ID'], aggfunc=np.sum)\n",
    "\n",
    "maize_fl4= pd.DataFrame(maize_fl3.to_records())\n",
    "maize_fl4.head()"
   ]
  },
  {
   "cell_type": "markdown",
   "metadata": {},
   "source": [
    "# Mustard Observations"
   ]
  },
  {
   "cell_type": "code",
   "execution_count": 39,
   "metadata": {},
   "outputs": [
    {
     "data": {
      "text/plain": [
       "(5, 69)"
      ]
     },
     "execution_count": 39,
     "metadata": {},
     "output_type": "execute_result"
    }
   ],
   "source": [
    "path =r'D:\\Bizom\\Bizom Analysis\\Demo Analysis\\DemoFY21-22\\Crop_Observations\\mustard'\n",
    "must_ob = pd.concat(map(pd.read_excel, glob.glob(os.path.join(path, \"*.xlsx\"))),sort=False)\n",
    "\n",
    "cleaning (must_ob)\n",
    "observations(must_ob)\n",
    "droptest(must_ob)\n",
    "\n",
    "must_f = must_demo.merge(must_ob,left_on= 'con', right_on = 'DemoID_OutletID')\n",
    "must_f.shape"
   ]
  },
  {
   "cell_type": "code",
   "execution_count": 40,
   "metadata": {},
   "outputs": [
    {
     "data": {
      "text/plain": [
       "(0, 104)"
      ]
     },
     "execution_count": 40,
     "metadata": {},
     "output_type": "execute_result"
    }
   ],
   "source": [
    "must_ob_nm = must_ob.merge(must_f,left_on= 'DemoID_OutletID', right_on = 'DemoID_OutletID', how='outer',indicator=True)\n",
    "must_ob_nm=must_ob_nm[must_ob_nm['_merge']=='left_only']\n",
    "must_ob_nm.shape"
   ]
  },
  {
   "cell_type": "code",
   "execution_count": 41,
   "metadata": {},
   "outputs": [
    {
     "data": {
      "text/plain": [
       "Index(['Demo_ID', '30_Days_After_Planting', '60_Days_After_Planting',\n",
       "       '90_Days_After_Planting', 'At_Harvest'],\n",
       "      dtype='object')"
      ]
     },
     "execution_count": 41,
     "metadata": {},
     "output_type": "execute_result"
    }
   ],
   "source": [
    "must_f['con_demo_ID_Observation'] = must_f['Demo_Id']+ must_f['Demo_Crop___Mustard']\n",
    "must_fl = must_f.drop_duplicates(subset =\"con_demo_ID_Observation\", keep='last')\n",
    "\n",
    "must_fl1= pd.pivot_table(must_fl,values ='Name', columns ='Demo_Crop___Mustard',\n",
    "                          index = ['Demo_ID'],  aggfunc={'Name':'count'})\n",
    "\n",
    "must_fl2 = pd.DataFrame(must_fl1.to_records())\n",
    "\n",
    "must_fl2.fillna(0, inplace = True)\n",
    "cleaning(must_fl2)\n",
    "must_fl2.columns"
   ]
  },
  {
   "cell_type": "code",
   "execution_count": 43,
   "metadata": {},
   "outputs": [
    {
     "data": {
      "text/html": [
       "<div>\n",
       "<style scoped>\n",
       "    .dataframe tbody tr th:only-of-type {\n",
       "        vertical-align: middle;\n",
       "    }\n",
       "\n",
       "    .dataframe tbody tr th {\n",
       "        vertical-align: top;\n",
       "    }\n",
       "\n",
       "    .dataframe thead th {\n",
       "        text-align: right;\n",
       "    }\n",
       "</style>\n",
       "<table border=\"1\" class=\"dataframe\">\n",
       "  <thead>\n",
       "    <tr style=\"text-align: right;\">\n",
       "      <th></th>\n",
       "      <th>Demo_ID</th>\n",
       "      <th>30_Days_After_Planting_v1</th>\n",
       "      <th>60_Days_After_Planting_v1</th>\n",
       "      <th>90_Days_After_Planting_v1</th>\n",
       "      <th>At_Harvest_v1</th>\n",
       "    </tr>\n",
       "  </thead>\n",
       "  <tbody>\n",
       "    <tr>\n",
       "      <th>0</th>\n",
       "      <td>97634298420</td>\n",
       "      <td>0</td>\n",
       "      <td>0</td>\n",
       "      <td>0</td>\n",
       "      <td>1.0</td>\n",
       "    </tr>\n",
       "  </tbody>\n",
       "</table>\n",
       "</div>"
      ],
      "text/plain": [
       "       Demo_ID  30_Days_After_Planting_v1  60_Days_After_Planting_v1  \\\n",
       "0  97634298420                          0                          0   \n",
       "\n",
       "   90_Days_After_Planting_v1  At_Harvest_v1  \n",
       "0                          0            1.0  "
      ]
     },
     "execution_count": 43,
     "metadata": {},
     "output_type": "execute_result"
    }
   ],
   "source": [
    "must_fl2['30_Days_After_Planting_v1'] = must_fl2.apply(lambda row: 1.0 if ((row['30_Days_After_Planting']) == 1) and\n",
    "                                                     ((row['60_Days_After_Planting']) < 1) and\n",
    "                                                     ((row['90_Days_After_Planting']) < 1) and\n",
    "                                                     ((row['At_Harvest']) <1) else 0 ,axis=1)\n",
    "\n",
    "must_fl2['60_Days_After_Planting_v1'] = must_fl2.apply(lambda row: 1.0 if ((row['30_Days_After_Planting']) == 1) and\n",
    "                                                     ((row['60_Days_After_Planting']) == 1) and\n",
    "                                                     ((row['90_Days_After_Planting']) < 1) and\n",
    "                                                     ((row['At_Harvest']) <1) else 0 ,axis=1) \n",
    "\n",
    "must_fl2['90_Days_After_Planting_v1'] = must_fl2.apply(lambda row: 1.0 if ((row['30_Days_After_Planting']) == 1) and\n",
    "                                                     ((row['60_Days_After_Planting']) == 1) and\n",
    "                                                     ((row['90_Days_After_Planting']) == 1) and\n",
    "                                                     ((row['At_Harvest']) <1) else 0 ,axis=1) \n",
    "\n",
    "must_fl2['At_Harvest_v1'] = must_fl2.apply(lambda row: 1.0 if ((row['30_Days_After_Planting']) == 1) and\n",
    "                                                     ((row['60_Days_After_Planting']) == 1) and\n",
    "                                                     ((row['90_Days_After_Planting']) == 1) and   \n",
    "                                                     ((row['At_Harvest']) ==1) else 0 ,axis=1)  \n",
    "\n",
    "\n",
    "must_fl3=  pd.pivot_table(must_fl2,values =['30_Days_After_Planting_v1','60_Days_After_Planting_v1','90_Days_After_Planting_v1',\n",
    "                                         'At_Harvest_v1'], index = ['Demo_ID'], aggfunc=np.sum)\n",
    "\n",
    "must_fl4= pd.DataFrame(must_fl3.to_records())\n",
    "must_fl4.head()"
   ]
  },
  {
   "cell_type": "markdown",
   "metadata": {},
   "source": [
    "# Banana Observations"
   ]
  },
  {
   "cell_type": "code",
   "execution_count": 44,
   "metadata": {},
   "outputs": [
    {
     "data": {
      "text/plain": [
       "(6, 83)"
      ]
     },
     "execution_count": 44,
     "metadata": {},
     "output_type": "execute_result"
    }
   ],
   "source": [
    "path =r'D:\\Bizom\\Bizom Analysis\\Demo Analysis\\DemoFY21-22\\Crop_Observations\\banana'\n",
    "banana_ob = pd.concat(map(pd.read_excel, glob.glob(os.path.join(path, \"*.xlsx\"))),sort=False)\n",
    "\n",
    "cleaning (banana_ob)\n",
    "observations(banana_ob)\n",
    "droptest(banana_ob)\n",
    "\n",
    "banana_f = banana_demo.merge(banana_ob,left_on= 'con', right_on = 'DemoID_OutletID')\n",
    "banana_f.shape"
   ]
  },
  {
   "cell_type": "code",
   "execution_count": 45,
   "metadata": {},
   "outputs": [
    {
     "data": {
      "text/plain": [
       "(0, 132)"
      ]
     },
     "execution_count": 45,
     "metadata": {},
     "output_type": "execute_result"
    }
   ],
   "source": [
    "banana_ob_nm = banana_ob.merge(banana_f,left_on= 'DemoID_OutletID', right_on = 'DemoID_OutletID', how='outer',indicator=True)\n",
    "banana_ob_nm=banana_ob_nm[banana_ob_nm['_merge']=='left_only']\n",
    "banana_ob_nm.shape"
   ]
  },
  {
   "cell_type": "code",
   "execution_count": 46,
   "metadata": {},
   "outputs": [
    {
     "data": {
      "text/plain": [
       "Index(['Demo_ID', '150_Days_After_Planting', '180_Days_After_Planting',\n",
       "       '210_Days_After_Planting', '240_Days_After_Planting',\n",
       "       '270_Days_After_Planting', 'At_Harvest'],\n",
       "      dtype='object')"
      ]
     },
     "execution_count": 46,
     "metadata": {},
     "output_type": "execute_result"
    }
   ],
   "source": [
    "banana_f['con_demo_ID_Observation'] = banana_f['Demo_Id']+ banana_f['Demo_Crop___Banana']\n",
    "banana_fl = banana_f.drop_duplicates(subset =\"con_demo_ID_Observation\", keep='last')\n",
    "\n",
    "banana_fl1= pd.pivot_table(banana_fl,values ='Name', columns ='Demo_Crop___Banana',\n",
    "                          index = ['Demo_ID'],  aggfunc={'Name':'count'})\n",
    "\n",
    "banana_fl2 = pd.DataFrame(banana_fl1.to_records())\n",
    "\n",
    "banana_fl2.fillna(0, inplace = True)\n",
    "cleaning(banana_fl2)\n",
    "banana_fl2.columns"
   ]
  },
  {
   "cell_type": "code",
   "execution_count": 47,
   "metadata": {},
   "outputs": [
    {
     "data": {
      "text/html": [
       "<div>\n",
       "<style scoped>\n",
       "    .dataframe tbody tr th:only-of-type {\n",
       "        vertical-align: middle;\n",
       "    }\n",
       "\n",
       "    .dataframe tbody tr th {\n",
       "        vertical-align: top;\n",
       "    }\n",
       "\n",
       "    .dataframe thead th {\n",
       "        text-align: right;\n",
       "    }\n",
       "</style>\n",
       "<table border=\"1\" class=\"dataframe\">\n",
       "  <thead>\n",
       "    <tr style=\"text-align: right;\">\n",
       "      <th></th>\n",
       "      <th>Demo_ID</th>\n",
       "      <th>150_Days_After_Planting_v1</th>\n",
       "      <th>180_Days_After_Planting_v1</th>\n",
       "      <th>210_Days_After_Planting_v1</th>\n",
       "      <th>240_Days_After_Planting_v1</th>\n",
       "      <th>270_Days_After_Planting_v1</th>\n",
       "      <th>At_Harvest_v1</th>\n",
       "    </tr>\n",
       "  </thead>\n",
       "  <tbody>\n",
       "    <tr>\n",
       "      <th>0</th>\n",
       "      <td>97634298419</td>\n",
       "      <td>0</td>\n",
       "      <td>0</td>\n",
       "      <td>0</td>\n",
       "      <td>0</td>\n",
       "      <td>0</td>\n",
       "      <td>1.0</td>\n",
       "    </tr>\n",
       "  </tbody>\n",
       "</table>\n",
       "</div>"
      ],
      "text/plain": [
       "       Demo_ID  150_Days_After_Planting_v1  180_Days_After_Planting_v1  \\\n",
       "0  97634298419                           0                           0   \n",
       "\n",
       "   210_Days_After_Planting_v1  240_Days_After_Planting_v1  \\\n",
       "0                           0                           0   \n",
       "\n",
       "   270_Days_After_Planting_v1  At_Harvest_v1  \n",
       "0                           0            1.0  "
      ]
     },
     "execution_count": 47,
     "metadata": {},
     "output_type": "execute_result"
    }
   ],
   "source": [
    "banana_fl2['150_Days_After_Planting_v1'] = banana_fl2.apply(lambda row: 1.0 if ((row['150_Days_After_Planting']) == 1) and\n",
    "                                                     ((row['180_Days_After_Planting']) < 1) and\n",
    "                                                     ((row['210_Days_After_Planting']) < 1) and\n",
    "                                                     ((row['240_Days_After_Planting']) < 1) and\n",
    "                                                     ((row['270_Days_After_Planting']) < 1) and\n",
    "                                                     ((row['At_Harvest']) < 1) else 0 ,axis=1)\n",
    "\n",
    "banana_fl2['180_Days_After_Planting_v1'] = banana_fl2.apply(lambda row: 1.0 if ((row['150_Days_After_Planting']) == 1) and\n",
    "                                                     ((row['180_Days_After_Planting']) == 1) and\n",
    "                                                     ((row['210_Days_After_Planting']) < 1) and\n",
    "                                                     ((row['240_Days_After_Planting']) < 1) and\n",
    "                                                     ((row['270_Days_After_Planting']) < 1) and\n",
    "                                                     ((row['At_Harvest']) < 1) else 0 ,axis=1)\n",
    "\n",
    "banana_fl2['210_Days_After_Planting_v1'] = banana_fl2.apply(lambda row: 1.0 if ((row['150_Days_After_Planting']) == 1) and\n",
    "                                                     ((row['180_Days_After_Planting']) == 1) and\n",
    "                                                     ((row['210_Days_After_Planting']) == 1) and\n",
    "                                                     ((row['240_Days_After_Planting']) < 1) and\n",
    "                                                     ((row['270_Days_After_Planting']) < 1) and\n",
    "                                                     ((row['At_Harvest']) < 1) else 0 ,axis=1)\n",
    "\n",
    "banana_fl2['240_Days_After_Planting_v1'] = banana_fl2.apply(lambda row: 1.0 if ((row['150_Days_After_Planting']) == 1) and\n",
    "                                                     ((row['180_Days_After_Planting']) == 1) and\n",
    "                                                     ((row['210_Days_After_Planting']) == 1) and\n",
    "                                                     ((row['240_Days_After_Planting']) == 1) and\n",
    "                                                     ((row['270_Days_After_Planting']) < 1) and\n",
    "                                                     ((row['At_Harvest']) < 1) else 0 ,axis=1) \n",
    "\n",
    "banana_fl2['270_Days_After_Planting_v1'] = banana_fl2.apply(lambda row: 1.0 if ((row['150_Days_After_Planting']) == 1) and\n",
    "                                                     ((row['180_Days_After_Planting']) == 1) and\n",
    "                                                     ((row['210_Days_After_Planting']) == 1) and\n",
    "                                                     ((row['240_Days_After_Planting']) == 1) and\n",
    "                                                     ((row['270_Days_After_Planting']) == 1) and\n",
    "                                                     ((row['At_Harvest']) < 1) else 0 ,axis=1) \n",
    "\n",
    "banana_fl2['At_Harvest_v1'] = banana_fl2.apply(lambda row: 1.0 if ((row['150_Days_After_Planting']) == 1) and\n",
    "                                                     ((row['180_Days_After_Planting']) == 1) and\n",
    "                                                     ((row['210_Days_After_Planting']) == 1) and\n",
    "                                                     ((row['240_Days_After_Planting']) == 1) and\n",
    "                                                     ((row['270_Days_After_Planting']) == 1) and\n",
    "                                                     ((row['At_Harvest']) == 1) else 0 ,axis=1) \n",
    "\n",
    "\n",
    "banana_fl3=  pd.pivot_table(banana_fl2,values =['150_Days_After_Planting_v1','180_Days_After_Planting_v1',\n",
    "                                                '210_Days_After_Planting_v1','240_Days_After_Planting_v1',\n",
    "                                                '270_Days_After_Planting_v1','At_Harvest_v1'],\n",
    "                                            index = ['Demo_ID'], aggfunc=np.sum)\n",
    "\n",
    "banana_fl4= pd.DataFrame(banana_fl3.to_records())\n",
    "banana_fl4.head()"
   ]
  },
  {
   "cell_type": "markdown",
   "metadata": {},
   "source": [
    "# Wheat Observations"
   ]
  },
  {
   "cell_type": "code",
   "execution_count": 48,
   "metadata": {},
   "outputs": [
    {
     "data": {
      "text/plain": [
       "(2, 59)"
      ]
     },
     "execution_count": 48,
     "metadata": {},
     "output_type": "execute_result"
    }
   ],
   "source": [
    "path =r'D:\\Bizom\\Bizom Analysis\\Demo Analysis\\DemoFY21-22\\Crop_Observations\\wheat'\n",
    "wh_ob = pd.concat(map(pd.read_excel, glob.glob(os.path.join(path, \"*.xlsx\"))),sort=False)\n",
    "\n",
    "cleaning (wh_ob)\n",
    "observations(wh_ob)\n",
    "droptest(wh_ob)\n",
    "\n",
    "wh_f = wheat_demo.merge(wh_ob,left_on= 'con', right_on = 'DemoID_OutletID')\n",
    "wh_f.shape"
   ]
  },
  {
   "cell_type": "code",
   "execution_count": 49,
   "metadata": {},
   "outputs": [
    {
     "data": {
      "text/plain": [
       "(89, 84)"
      ]
     },
     "execution_count": 49,
     "metadata": {},
     "output_type": "execute_result"
    }
   ],
   "source": [
    "wh_ob_nm = wh_ob.merge(wh_f,left_on= 'DemoID_OutletID', right_on = 'DemoID_OutletID', how='outer',indicator=True)\n",
    "wh_ob_nm=wh_ob_nm[wh_ob_nm['_merge']=='left_only']\n",
    "wh_ob_nm.shape"
   ]
  },
  {
   "cell_type": "code",
   "execution_count": 50,
   "metadata": {},
   "outputs": [
    {
     "data": {
      "text/plain": [
       "Index(['Demo_ID', '60_Days_After_Planting', 'At_Harvest'], dtype='object')"
      ]
     },
     "execution_count": 50,
     "metadata": {},
     "output_type": "execute_result"
    }
   ],
   "source": [
    "wh_f['con_demo_ID_Observation'] = wh_f['Demo_Id']+ wh_f['Demo_Crop___Wheat']\n",
    "wh_fl = wh_f.drop_duplicates(subset =\"con_demo_ID_Observation\", keep='last')\n",
    "\n",
    "wh_fl1= pd.pivot_table(wh_fl,values ='Name', columns ='Demo_Crop___Wheat',\n",
    "                          index = ['Demo_ID'],  aggfunc={'Name':'count'})\n",
    "\n",
    "wh_fl2 = pd.DataFrame(wh_fl1.to_records())\n",
    "\n",
    "wh_fl2.fillna(0, inplace = True)\n",
    "cleaning(wh_fl2)\n",
    "wh_fl2.columns"
   ]
  },
  {
   "cell_type": "code",
   "execution_count": 58,
   "metadata": {
    "scrolled": true
   },
   "outputs": [
    {
     "data": {
      "text/html": [
       "<div>\n",
       "<style scoped>\n",
       "    .dataframe tbody tr th:only-of-type {\n",
       "        vertical-align: middle;\n",
       "    }\n",
       "\n",
       "    .dataframe tbody tr th {\n",
       "        vertical-align: top;\n",
       "    }\n",
       "\n",
       "    .dataframe thead th {\n",
       "        text-align: right;\n",
       "    }\n",
       "</style>\n",
       "<table border=\"1\" class=\"dataframe\">\n",
       "  <thead>\n",
       "    <tr style=\"text-align: right;\">\n",
       "      <th></th>\n",
       "      <th>Demo_ID</th>\n",
       "      <th>60_Days_After_Planting_v1</th>\n",
       "      <th>At_Harvest_v1</th>\n",
       "    </tr>\n",
       "  </thead>\n",
       "  <tbody>\n",
       "    <tr>\n",
       "      <th>0</th>\n",
       "      <td>97634298421</td>\n",
       "      <td>0</td>\n",
       "      <td>1.0</td>\n",
       "    </tr>\n",
       "  </tbody>\n",
       "</table>\n",
       "</div>"
      ],
      "text/plain": [
       "       Demo_ID  60_Days_After_Planting_v1  At_Harvest_v1\n",
       "0  97634298421                          0            1.0"
      ]
     },
     "execution_count": 58,
     "metadata": {},
     "output_type": "execute_result"
    }
   ],
   "source": [
    "wh_fl2['60_Days_After_Planting_v1'] = wh_fl2.apply(lambda row: 1.0 if ((row['60_Days_After_Planting']) == 1) and\n",
    "                                        ((row['At_Harvest']) < 1) else 0 ,axis=1) \n",
    "\n",
    "wh_fl2['At_Harvest_v1'] = wh_fl2.apply(lambda row: 1.0 if ((row['60_Days_After_Planting']) == 1) and\n",
    "                                        ((row['At_Harvest']) ==1) else 0 ,axis=1) \n",
    "\n",
    "\n",
    "wh_fl3=  pd.pivot_table(wh_fl2,values =['60_Days_After_Planting_v1','At_Harvest_v1'],index = ['Demo_ID'], aggfunc=np.sum)\n",
    "wh_fl4= pd.DataFrame(wh_fl3.to_records())\n",
    "wh_fl4.head()"
   ]
  },
  {
   "cell_type": "markdown",
   "metadata": {},
   "source": [
    "# Potato Observations"
   ]
  },
  {
   "cell_type": "code",
   "execution_count": 52,
   "metadata": {},
   "outputs": [
    {
     "data": {
      "text/plain": [
       "(4, 60)"
      ]
     },
     "execution_count": 52,
     "metadata": {},
     "output_type": "execute_result"
    }
   ],
   "source": [
    "path =r'D:\\Bizom\\Bizom Analysis\\Demo Analysis\\DemoFY21-22\\Crop_Observations\\potato'\n",
    "pot_ob = pd.concat(map(pd.read_excel, glob.glob(os.path.join(path, \"*.xlsx\"))),sort=False)\n",
    "\n",
    "cleaning (pot_ob)\n",
    "observations(pot_ob)\n",
    "droptest(pot_ob)\n",
    "\n",
    "pot_f = pot_demo.merge(pot_ob,left_on= 'con', right_on = 'DemoID_OutletID')\n",
    "pot_f.shape"
   ]
  },
  {
   "cell_type": "code",
   "execution_count": 53,
   "metadata": {},
   "outputs": [
    {
     "data": {
      "text/plain": [
       "(270, 86)"
      ]
     },
     "execution_count": 53,
     "metadata": {},
     "output_type": "execute_result"
    }
   ],
   "source": [
    "pot_ob_nm = pot_ob.merge(pot_f,left_on= 'DemoID_OutletID', right_on = 'DemoID_OutletID', how='outer',indicator=True)\n",
    "pot_ob_nm=pot_ob_nm[pot_ob_nm['_merge']=='left_only']\n",
    "pot_ob_nm.shape"
   ]
  },
  {
   "cell_type": "code",
   "execution_count": 54,
   "metadata": {},
   "outputs": [
    {
     "data": {
      "text/plain": [
       "Index(['Demo_ID', '1st', 'At_Harvest'], dtype='object')"
      ]
     },
     "execution_count": 54,
     "metadata": {},
     "output_type": "execute_result"
    }
   ],
   "source": [
    "pot_f['con_demo_ID_Observation'] = pot_f['Demo_Id']+ pot_f['Observation_No_Potato']\n",
    "pot_fl = pot_f.drop_duplicates(subset =\"con_demo_ID_Observation\", keep='last')\n",
    "\n",
    "pot_fl1= pd.pivot_table(pot_fl,values ='Name', columns ='Observation_No_Potato',\n",
    "                          index = ['Demo_ID'],  aggfunc={'Name':'count'})\n",
    "\n",
    "pot_fl2 = pd.DataFrame(pot_fl1.to_records())\n",
    "\n",
    "pot_fl2.fillna(0, inplace = True)\n",
    "cleaning(pot_fl2)\n",
    "pot_fl2.columns"
   ]
  },
  {
   "cell_type": "code",
   "execution_count": 157,
   "metadata": {},
   "outputs": [
    {
     "data": {
      "text/html": [
       "<div>\n",
       "<style scoped>\n",
       "    .dataframe tbody tr th:only-of-type {\n",
       "        vertical-align: middle;\n",
       "    }\n",
       "\n",
       "    .dataframe tbody tr th {\n",
       "        vertical-align: top;\n",
       "    }\n",
       "\n",
       "    .dataframe thead th {\n",
       "        text-align: right;\n",
       "    }\n",
       "</style>\n",
       "<table border=\"1\" class=\"dataframe\">\n",
       "  <thead>\n",
       "    <tr style=\"text-align: right;\">\n",
       "      <th></th>\n",
       "      <th>Demo_ID</th>\n",
       "      <th>1st_v1</th>\n",
       "      <th>At_Harvest_v1</th>\n",
       "    </tr>\n",
       "  </thead>\n",
       "  <tbody>\n",
       "    <tr>\n",
       "      <th>0</th>\n",
       "      <td>97634298418</td>\n",
       "      <td>0</td>\n",
       "      <td>1.0</td>\n",
       "    </tr>\n",
       "  </tbody>\n",
       "</table>\n",
       "</div>"
      ],
      "text/plain": [
       "       Demo_ID  1st_v1  At_Harvest_v1\n",
       "0  97634298418       0            1.0"
      ]
     },
     "execution_count": 157,
     "metadata": {},
     "output_type": "execute_result"
    }
   ],
   "source": [
    "pot_fl2['1st_v1'] = pot_fl2.apply(lambda row: 1.0 if ((row['1st']) == 1) and\n",
    "                                        ((row['At_Harvest']) < 1) else 0 ,axis=1) \n",
    "\n",
    "pot_fl2['At_Harvest_v1'] = pot_fl2.apply(lambda row: 1.0 if ((row['1st']) == 1) and\n",
    "                                        ((row['At_Harvest']) ==1) else 0 ,axis=1) \n",
    "\n",
    "\n",
    "pot_fl3=  pd.pivot_table(pot_fl2,values =['1st_v1','At_Harvest_v1'],index = ['Demo_ID'], aggfunc=np.sum)\n",
    "pot_fl4 = pd.DataFrame(pot_fl3.to_records())\n",
    "pot_fl4.head()"
   ]
  },
  {
   "cell_type": "markdown",
   "metadata": {},
   "source": [
    "# DSM"
   ]
  },
  {
   "cell_type": "code",
   "execution_count": null,
   "metadata": {},
   "outputs": [],
   "source": [
    "path =r'D:\\Bizom\\Bizom Analysis\\Demo Analysis\\DemoFY21-22\\DSM'\n",
    "dsm = pd.concat(map(pd.read_excel, glob.glob(os.path.join(path, \"*.xlsx\"))),sort=False)\n",
    "\n",
    "cleaning (dsm)\n",
    "droptest(dsm)\n",
    "\n",
    "dsm[['Demo_ID']] = dsm[['Demo_ID']].fillna(value=0)\n",
    "dsm[['Demo_ID']] = dsm[['Demo_ID']].astype(int)\n",
    "dsm[['Demo_ID']] = dsm[['Demo_ID']].astype(str)\n",
    "dsm['Subdealers_Dealers_Farmers_Villages_Id'] = dsm['Subdealers_Dealers_Farmers_Villages_Id'].astype(str)\n",
    "dsm['DemoID_OutletID'] = dsm['Demo_ID'] + dsm['Subdealers_Dealers_Farmers_Villages_Id']\n",
    "dsm['DemoID_OutletID'] = dsm['DemoID_OutletID'].astype(str)\n",
    "\n",
    "dsm_f = demo1.merge(dsm, left_on= 'con', right_on = 'DemoID_OutletID')\n",
    "dsm_f.shape"
   ]
  },
  {
   "cell_type": "code",
   "execution_count": null,
   "metadata": {},
   "outputs": [],
   "source": [
    "dsm_nm = dsm.merge(dsm_f,left_on= 'DemoID_OutletID', right_on = 'DemoID_OutletID', how='outer',indicator=True)\n",
    "dsm_nm=dsm_nm[dsm_nm['_merge']=='left_only']\n",
    "dsm_nm.shape"
   ]
  },
  {
   "cell_type": "code",
   "execution_count": 142,
   "metadata": {},
   "outputs": [
    {
     "data": {
      "text/html": [
       "<div>\n",
       "<style scoped>\n",
       "    .dataframe tbody tr th:only-of-type {\n",
       "        vertical-align: middle;\n",
       "    }\n",
       "\n",
       "    .dataframe tbody tr th {\n",
       "        vertical-align: top;\n",
       "    }\n",
       "\n",
       "    .dataframe thead th {\n",
       "        text-align: right;\n",
       "    }\n",
       "</style>\n",
       "<table border=\"1\" class=\"dataframe\">\n",
       "  <thead>\n",
       "    <tr style=\"text-align: right;\">\n",
       "      <th></th>\n",
       "      <th>Demo_ID</th>\n",
       "      <th>DSM</th>\n",
       "    </tr>\n",
       "  </thead>\n",
       "  <tbody>\n",
       "    <tr>\n",
       "      <th>0</th>\n",
       "      <td>1006117</td>\n",
       "      <td>2</td>\n",
       "    </tr>\n",
       "    <tr>\n",
       "      <th>1</th>\n",
       "      <td>1006354</td>\n",
       "      <td>2</td>\n",
       "    </tr>\n",
       "    <tr>\n",
       "      <th>2</th>\n",
       "      <td>1006403</td>\n",
       "      <td>2</td>\n",
       "    </tr>\n",
       "    <tr>\n",
       "      <th>3</th>\n",
       "      <td>1007799</td>\n",
       "      <td>1</td>\n",
       "    </tr>\n",
       "    <tr>\n",
       "      <th>4</th>\n",
       "      <td>1008053</td>\n",
       "      <td>2</td>\n",
       "    </tr>\n",
       "  </tbody>\n",
       "</table>\n",
       "</div>"
      ],
      "text/plain": [
       "   Demo_ID  DSM\n",
       "0  1006117    2\n",
       "1  1006354    2\n",
       "2  1006403    2\n",
       "3  1007799    1\n",
       "4  1008053    2"
      ]
     },
     "execution_count": 142,
     "metadata": {},
     "output_type": "execute_result"
    }
   ],
   "source": [
    "dsm1 = pd.pivot_table(dsm_f,values ='User_Name', index = ['Demo_Id'],aggfunc={'User_Name':'count'})\n",
    "\n",
    "dsm2= pd.DataFrame(dsm1.to_records())\n",
    "dsm2.rename(columns={'Demo_Id': 'Demo_ID', 'User_Name': 'DSM'}, inplace=True)\n",
    "\n",
    "dsm2.head()"
   ]
  },
  {
   "cell_type": "markdown",
   "metadata": {},
   "source": [
    "# All Observation and DSM Combined"
   ]
  },
  {
   "cell_type": "markdown",
   "metadata": {},
   "source": [
    " Exluding Potato and Banana"
   ]
  },
  {
   "cell_type": "code",
   "execution_count": 158,
   "metadata": {},
   "outputs": [
    {
     "data": {
      "text/html": [
       "<div>\n",
       "<style scoped>\n",
       "    .dataframe tbody tr th:only-of-type {\n",
       "        vertical-align: middle;\n",
       "    }\n",
       "\n",
       "    .dataframe tbody tr th {\n",
       "        vertical-align: top;\n",
       "    }\n",
       "\n",
       "    .dataframe thead th {\n",
       "        text-align: right;\n",
       "    }\n",
       "</style>\n",
       "<table border=\"1\" class=\"dataframe\">\n",
       "  <thead>\n",
       "    <tr style=\"text-align: right;\">\n",
       "      <th></th>\n",
       "      <th>Demo_ID</th>\n",
       "      <th>120_Days_After_Planting_v1</th>\n",
       "      <th>60_Days_After_Planting_v1</th>\n",
       "      <th>90_Days_After_Planting_v1</th>\n",
       "      <th>At_Harvest_v1</th>\n",
       "      <th>30_Days_After_Planting_v1</th>\n",
       "      <th>150_Days_After_Planting_v1</th>\n",
       "      <th>180_Days_After_Planting_v1</th>\n",
       "      <th>210_Days_After_Planting_v1</th>\n",
       "      <th>240_Days_After_Planting_v1</th>\n",
       "      <th>270_Days_After_Planting_v1</th>\n",
       "      <th>1st_v1</th>\n",
       "    </tr>\n",
       "  </thead>\n",
       "  <tbody>\n",
       "    <tr>\n",
       "      <th>0</th>\n",
       "      <td>1007965</td>\n",
       "      <td>0.0</td>\n",
       "      <td>0.0</td>\n",
       "      <td>0.0</td>\n",
       "      <td>0.0</td>\n",
       "      <td>NaN</td>\n",
       "      <td>NaN</td>\n",
       "      <td>NaN</td>\n",
       "      <td>NaN</td>\n",
       "      <td>NaN</td>\n",
       "      <td>NaN</td>\n",
       "      <td>NaN</td>\n",
       "    </tr>\n",
       "    <tr>\n",
       "      <th>1</th>\n",
       "      <td>1008101</td>\n",
       "      <td>0.0</td>\n",
       "      <td>1.0</td>\n",
       "      <td>0.0</td>\n",
       "      <td>0.0</td>\n",
       "      <td>NaN</td>\n",
       "      <td>NaN</td>\n",
       "      <td>NaN</td>\n",
       "      <td>NaN</td>\n",
       "      <td>NaN</td>\n",
       "      <td>NaN</td>\n",
       "      <td>NaN</td>\n",
       "    </tr>\n",
       "    <tr>\n",
       "      <th>2</th>\n",
       "      <td>1008150</td>\n",
       "      <td>0.0</td>\n",
       "      <td>1.0</td>\n",
       "      <td>0.0</td>\n",
       "      <td>0.0</td>\n",
       "      <td>NaN</td>\n",
       "      <td>NaN</td>\n",
       "      <td>NaN</td>\n",
       "      <td>NaN</td>\n",
       "      <td>NaN</td>\n",
       "      <td>NaN</td>\n",
       "      <td>NaN</td>\n",
       "    </tr>\n",
       "    <tr>\n",
       "      <th>3</th>\n",
       "      <td>1008212</td>\n",
       "      <td>0.0</td>\n",
       "      <td>1.0</td>\n",
       "      <td>0.0</td>\n",
       "      <td>0.0</td>\n",
       "      <td>NaN</td>\n",
       "      <td>NaN</td>\n",
       "      <td>NaN</td>\n",
       "      <td>NaN</td>\n",
       "      <td>NaN</td>\n",
       "      <td>NaN</td>\n",
       "      <td>NaN</td>\n",
       "    </tr>\n",
       "    <tr>\n",
       "      <th>4</th>\n",
       "      <td>1008503</td>\n",
       "      <td>0.0</td>\n",
       "      <td>1.0</td>\n",
       "      <td>0.0</td>\n",
       "      <td>0.0</td>\n",
       "      <td>NaN</td>\n",
       "      <td>NaN</td>\n",
       "      <td>NaN</td>\n",
       "      <td>NaN</td>\n",
       "      <td>NaN</td>\n",
       "      <td>NaN</td>\n",
       "      <td>NaN</td>\n",
       "    </tr>\n",
       "  </tbody>\n",
       "</table>\n",
       "</div>"
      ],
      "text/plain": [
       "   Demo_ID  120_Days_After_Planting_v1  60_Days_After_Planting_v1  \\\n",
       "0  1007965                         0.0                        0.0   \n",
       "1  1008101                         0.0                        1.0   \n",
       "2  1008150                         0.0                        1.0   \n",
       "3  1008212                         0.0                        1.0   \n",
       "4  1008503                         0.0                        1.0   \n",
       "\n",
       "   90_Days_After_Planting_v1  At_Harvest_v1  30_Days_After_Planting_v1  \\\n",
       "0                        0.0            0.0                        NaN   \n",
       "1                        0.0            0.0                        NaN   \n",
       "2                        0.0            0.0                        NaN   \n",
       "3                        0.0            0.0                        NaN   \n",
       "4                        0.0            0.0                        NaN   \n",
       "\n",
       "   150_Days_After_Planting_v1  180_Days_After_Planting_v1  \\\n",
       "0                         NaN                         NaN   \n",
       "1                         NaN                         NaN   \n",
       "2                         NaN                         NaN   \n",
       "3                         NaN                         NaN   \n",
       "4                         NaN                         NaN   \n",
       "\n",
       "   210_Days_After_Planting_v1  240_Days_After_Planting_v1  \\\n",
       "0                         NaN                         NaN   \n",
       "1                         NaN                         NaN   \n",
       "2                         NaN                         NaN   \n",
       "3                         NaN                         NaN   \n",
       "4                         NaN                         NaN   \n",
       "\n",
       "   270_Days_After_Planting_v1  1st_v1  \n",
       "0                         NaN     NaN  \n",
       "1                         NaN     NaN  \n",
       "2                         NaN     NaN  \n",
       "3                         NaN     NaN  \n",
       "4                         NaN     NaN  "
      ]
     },
     "execution_count": 158,
     "metadata": {},
     "output_type": "execute_result"
    }
   ],
   "source": [
    "ob_stg= pd.concat([cot_fl4,oni_fl4,tom_fl4, soy_fl4, gnut_fl4, scane_fl4, paddy_fl4, maize_fl4, must_fl4,wh_fl4, \n",
    "                   banana_fl4, pot_fl4])\n",
    "ob_stg.head()"
   ]
  },
  {
   "cell_type": "code",
   "execution_count": 159,
   "metadata": {},
   "outputs": [
    {
     "name": "stdout",
     "output_type": "stream",
     "text": [
      "df size is (1354, 13)\n"
     ]
    },
    {
     "data": {
      "text/html": [
       "<div>\n",
       "<style scoped>\n",
       "    .dataframe tbody tr th:only-of-type {\n",
       "        vertical-align: middle;\n",
       "    }\n",
       "\n",
       "    .dataframe tbody tr th {\n",
       "        vertical-align: top;\n",
       "    }\n",
       "\n",
       "    .dataframe thead th {\n",
       "        text-align: right;\n",
       "    }\n",
       "</style>\n",
       "<table border=\"1\" class=\"dataframe\">\n",
       "  <thead>\n",
       "    <tr style=\"text-align: right;\">\n",
       "      <th></th>\n",
       "      <th>Demo_ID</th>\n",
       "      <th>120_Days_After_Planting_v1</th>\n",
       "      <th>60_Days_After_Planting_v1</th>\n",
       "      <th>90_Days_After_Planting_v1</th>\n",
       "      <th>At_Harvest_v1</th>\n",
       "      <th>30_Days_After_Planting_v1</th>\n",
       "      <th>150_Days_After_Planting_v1</th>\n",
       "      <th>180_Days_After_Planting_v1</th>\n",
       "      <th>210_Days_After_Planting_v1</th>\n",
       "      <th>240_Days_After_Planting_v1</th>\n",
       "      <th>270_Days_After_Planting_v1</th>\n",
       "      <th>1st_v1</th>\n",
       "      <th>DSM</th>\n",
       "    </tr>\n",
       "  </thead>\n",
       "  <tbody>\n",
       "    <tr>\n",
       "      <th>0</th>\n",
       "      <td>1007965</td>\n",
       "      <td>0.0</td>\n",
       "      <td>0.0</td>\n",
       "      <td>0.0</td>\n",
       "      <td>0.0</td>\n",
       "      <td>NaN</td>\n",
       "      <td>NaN</td>\n",
       "      <td>NaN</td>\n",
       "      <td>NaN</td>\n",
       "      <td>NaN</td>\n",
       "      <td>NaN</td>\n",
       "      <td>NaN</td>\n",
       "      <td>NaN</td>\n",
       "    </tr>\n",
       "    <tr>\n",
       "      <th>1</th>\n",
       "      <td>1008101</td>\n",
       "      <td>0.0</td>\n",
       "      <td>1.0</td>\n",
       "      <td>0.0</td>\n",
       "      <td>0.0</td>\n",
       "      <td>NaN</td>\n",
       "      <td>NaN</td>\n",
       "      <td>NaN</td>\n",
       "      <td>NaN</td>\n",
       "      <td>NaN</td>\n",
       "      <td>NaN</td>\n",
       "      <td>NaN</td>\n",
       "      <td>NaN</td>\n",
       "    </tr>\n",
       "    <tr>\n",
       "      <th>2</th>\n",
       "      <td>1008150</td>\n",
       "      <td>0.0</td>\n",
       "      <td>1.0</td>\n",
       "      <td>0.0</td>\n",
       "      <td>0.0</td>\n",
       "      <td>NaN</td>\n",
       "      <td>NaN</td>\n",
       "      <td>NaN</td>\n",
       "      <td>NaN</td>\n",
       "      <td>NaN</td>\n",
       "      <td>NaN</td>\n",
       "      <td>NaN</td>\n",
       "      <td>NaN</td>\n",
       "    </tr>\n",
       "    <tr>\n",
       "      <th>3</th>\n",
       "      <td>1008212</td>\n",
       "      <td>0.0</td>\n",
       "      <td>1.0</td>\n",
       "      <td>0.0</td>\n",
       "      <td>0.0</td>\n",
       "      <td>NaN</td>\n",
       "      <td>NaN</td>\n",
       "      <td>NaN</td>\n",
       "      <td>NaN</td>\n",
       "      <td>NaN</td>\n",
       "      <td>NaN</td>\n",
       "      <td>NaN</td>\n",
       "      <td>1.0</td>\n",
       "    </tr>\n",
       "    <tr>\n",
       "      <th>4</th>\n",
       "      <td>1008503</td>\n",
       "      <td>0.0</td>\n",
       "      <td>1.0</td>\n",
       "      <td>0.0</td>\n",
       "      <td>0.0</td>\n",
       "      <td>NaN</td>\n",
       "      <td>NaN</td>\n",
       "      <td>NaN</td>\n",
       "      <td>NaN</td>\n",
       "      <td>NaN</td>\n",
       "      <td>NaN</td>\n",
       "      <td>NaN</td>\n",
       "      <td>2.0</td>\n",
       "    </tr>\n",
       "  </tbody>\n",
       "</table>\n",
       "</div>"
      ],
      "text/plain": [
       "   Demo_ID  120_Days_After_Planting_v1  60_Days_After_Planting_v1  \\\n",
       "0  1007965                         0.0                        0.0   \n",
       "1  1008101                         0.0                        1.0   \n",
       "2  1008150                         0.0                        1.0   \n",
       "3  1008212                         0.0                        1.0   \n",
       "4  1008503                         0.0                        1.0   \n",
       "\n",
       "   90_Days_After_Planting_v1  At_Harvest_v1  30_Days_After_Planting_v1  \\\n",
       "0                        0.0            0.0                        NaN   \n",
       "1                        0.0            0.0                        NaN   \n",
       "2                        0.0            0.0                        NaN   \n",
       "3                        0.0            0.0                        NaN   \n",
       "4                        0.0            0.0                        NaN   \n",
       "\n",
       "   150_Days_After_Planting_v1  180_Days_After_Planting_v1  \\\n",
       "0                         NaN                         NaN   \n",
       "1                         NaN                         NaN   \n",
       "2                         NaN                         NaN   \n",
       "3                         NaN                         NaN   \n",
       "4                         NaN                         NaN   \n",
       "\n",
       "   210_Days_After_Planting_v1  240_Days_After_Planting_v1  \\\n",
       "0                         NaN                         NaN   \n",
       "1                         NaN                         NaN   \n",
       "2                         NaN                         NaN   \n",
       "3                         NaN                         NaN   \n",
       "4                         NaN                         NaN   \n",
       "\n",
       "   270_Days_After_Planting_v1  1st_v1  DSM  \n",
       "0                         NaN     NaN  NaN  \n",
       "1                         NaN     NaN  NaN  \n",
       "2                         NaN     NaN  NaN  \n",
       "3                         NaN     NaN  1.0  \n",
       "4                         NaN     NaN  2.0  "
      ]
     },
     "execution_count": 159,
     "metadata": {},
     "output_type": "execute_result"
    }
   ],
   "source": [
    "ob_stg1 = ob_stg.merge(dsm2,left_on= 'Demo_ID', right_on = 'Demo_ID', how = 'outer')\n",
    "\n",
    "print ('df size is', ob_stg1.shape)\n",
    "ob_stg1.head()"
   ]
  },
  {
   "cell_type": "code",
   "execution_count": 184,
   "metadata": {
    "scrolled": true
   },
   "outputs": [
    {
     "name": "stdout",
     "output_type": "stream",
     "text": [
      "The size of dataframe is (1354, 9)\n"
     ]
    },
    {
     "data": {
      "text/html": [
       "<div>\n",
       "<style scoped>\n",
       "    .dataframe tbody tr th:only-of-type {\n",
       "        vertical-align: middle;\n",
       "    }\n",
       "\n",
       "    .dataframe tbody tr th {\n",
       "        vertical-align: top;\n",
       "    }\n",
       "\n",
       "    .dataframe thead th {\n",
       "        text-align: right;\n",
       "    }\n",
       "</style>\n",
       "<table border=\"1\" class=\"dataframe\">\n",
       "  <thead>\n",
       "    <tr style=\"text-align: right;\">\n",
       "      <th></th>\n",
       "      <th>Demo_ID</th>\n",
       "      <th>DSM</th>\n",
       "      <th>30_Days_After_Planting_v1</th>\n",
       "      <th>60_Days_After_Planting_v1</th>\n",
       "      <th>90_Days_After_Planting_v1</th>\n",
       "      <th>120_Days_After_Planting_v1</th>\n",
       "      <th>150_Days_After_Planting_v1</th>\n",
       "      <th>At_Harvest_v1</th>\n",
       "      <th>1st_v1</th>\n",
       "    </tr>\n",
       "  </thead>\n",
       "  <tbody>\n",
       "    <tr>\n",
       "      <th>0</th>\n",
       "      <td>1007965</td>\n",
       "      <td>NaN</td>\n",
       "      <td>NaN</td>\n",
       "      <td>0.0</td>\n",
       "      <td>0.0</td>\n",
       "      <td>0.0</td>\n",
       "      <td>NaN</td>\n",
       "      <td>0.0</td>\n",
       "      <td>NaN</td>\n",
       "    </tr>\n",
       "    <tr>\n",
       "      <th>1</th>\n",
       "      <td>1008101</td>\n",
       "      <td>NaN</td>\n",
       "      <td>NaN</td>\n",
       "      <td>1.0</td>\n",
       "      <td>0.0</td>\n",
       "      <td>0.0</td>\n",
       "      <td>NaN</td>\n",
       "      <td>0.0</td>\n",
       "      <td>NaN</td>\n",
       "    </tr>\n",
       "    <tr>\n",
       "      <th>2</th>\n",
       "      <td>1008150</td>\n",
       "      <td>NaN</td>\n",
       "      <td>NaN</td>\n",
       "      <td>1.0</td>\n",
       "      <td>0.0</td>\n",
       "      <td>0.0</td>\n",
       "      <td>NaN</td>\n",
       "      <td>0.0</td>\n",
       "      <td>NaN</td>\n",
       "    </tr>\n",
       "    <tr>\n",
       "      <th>3</th>\n",
       "      <td>1008212</td>\n",
       "      <td>1.0</td>\n",
       "      <td>NaN</td>\n",
       "      <td>1.0</td>\n",
       "      <td>0.0</td>\n",
       "      <td>0.0</td>\n",
       "      <td>NaN</td>\n",
       "      <td>0.0</td>\n",
       "      <td>NaN</td>\n",
       "    </tr>\n",
       "    <tr>\n",
       "      <th>4</th>\n",
       "      <td>1008503</td>\n",
       "      <td>2.0</td>\n",
       "      <td>NaN</td>\n",
       "      <td>1.0</td>\n",
       "      <td>0.0</td>\n",
       "      <td>0.0</td>\n",
       "      <td>NaN</td>\n",
       "      <td>0.0</td>\n",
       "      <td>NaN</td>\n",
       "    </tr>\n",
       "  </tbody>\n",
       "</table>\n",
       "</div>"
      ],
      "text/plain": [
       "   Demo_ID  DSM  30_Days_After_Planting_v1  60_Days_After_Planting_v1  \\\n",
       "0  1007965  NaN                        NaN                        0.0   \n",
       "1  1008101  NaN                        NaN                        1.0   \n",
       "2  1008150  NaN                        NaN                        1.0   \n",
       "3  1008212  1.0                        NaN                        1.0   \n",
       "4  1008503  2.0                        NaN                        1.0   \n",
       "\n",
       "   90_Days_After_Planting_v1  120_Days_After_Planting_v1  \\\n",
       "0                        0.0                         0.0   \n",
       "1                        0.0                         0.0   \n",
       "2                        0.0                         0.0   \n",
       "3                        0.0                         0.0   \n",
       "4                        0.0                         0.0   \n",
       "\n",
       "   150_Days_After_Planting_v1  At_Harvest_v1  1st_v1  \n",
       "0                         NaN            0.0     NaN  \n",
       "1                         NaN            0.0     NaN  \n",
       "2                         NaN            0.0     NaN  \n",
       "3                         NaN            0.0     NaN  \n",
       "4                         NaN            0.0     NaN  "
      ]
     },
     "execution_count": 184,
     "metadata": {},
     "output_type": "execute_result"
    }
   ],
   "source": [
    "ob_stg1 = ob_stg1 [['Demo_ID','DSM','30_Days_After_Planting_v1','60_Days_After_Planting_v1','90_Days_After_Planting_v1',\n",
    "                  '120_Days_After_Planting_v1', '150_Days_After_Planting_v1', 'At_Harvest_v1','1st_v1']]\n",
    "\n",
    "print ('The size of dataframe is' ,ob_stg1.shape)\n",
    "ob_stg1.head()"
   ]
  },
  {
   "cell_type": "code",
   "execution_count": 177,
   "metadata": {},
   "outputs": [],
   "source": [
    "#Drop test demo IDs\n",
    "\n",
    "demo1.drop(demo1[demo1.Demo_Id.isin(['9763429841', '97634298411', '97634298412', '97634298413', '97634298414', '97634298415',\n",
    "                           '97634298416', '97634298417', '97634298418', '97634298419', \n",
    "                            '97634298420', '97634298421'])].index, inplace= True)"
   ]
  },
  {
   "cell_type": "markdown",
   "metadata": {},
   "source": [
    "Adding summarize dataframe Demo Dataframe."
   ]
  },
  {
   "cell_type": "code",
   "execution_count": 178,
   "metadata": {},
   "outputs": [
    {
     "data": {
      "text/plain": [
       "(8883, 47)"
      ]
     },
     "execution_count": 178,
     "metadata": {},
     "output_type": "execute_result"
    }
   ],
   "source": [
    "demo2 = demo1.merge(ob_stg1, left_on= 'Demo_Id', right_on = 'Demo_ID', how = 'left')\n",
    "\n",
    "demo2.shape"
   ]
  },
  {
   "cell_type": "code",
   "execution_count": 179,
   "metadata": {},
   "outputs": [],
   "source": [
    "quad =pd.read_excel (r'D:\\Bizom\\Bizom Analysis\\PowerBi\\Masters\\Dist_q.xlsx')\n",
    "cleaning (quad)\n"
   ]
  },
  {
   "cell_type": "code",
   "execution_count": 180,
   "metadata": {},
   "outputs": [],
   "source": [
    "quad1 = quad[['SFO_Dist', 'Quadrant']].copy()"
   ]
  },
  {
   "cell_type": "code",
   "execution_count": 181,
   "metadata": {},
   "outputs": [
    {
     "data": {
      "text/plain": [
       "(8883, 49)"
      ]
     },
     "execution_count": 181,
     "metadata": {},
     "output_type": "execute_result"
    }
   ],
   "source": [
    "demo3 = demo2.merge(quad1, left_on= 'District', right_on = 'SFO_Dist', how = 'left')\n",
    "\n",
    "demo3.shape"
   ]
  },
  {
   "cell_type": "code",
   "execution_count": 182,
   "metadata": {},
   "outputs": [],
   "source": [
    "demo2.to_excel('Demo_Ob_DSM_Final.xlsx', index= False)"
   ]
  },
  {
   "cell_type": "markdown",
   "metadata": {},
   "source": [
    "# Observations which couldn't match because Crop, Demo ID, Outlet ID"
   ]
  },
  {
   "cell_type": "code",
   "execution_count": 153,
   "metadata": {},
   "outputs": [],
   "source": [
    "#Function to download all dfs in single excel\n",
    "def dfs_tabs(df_list, sheet_list, file_name):\n",
    "    writer = pd.ExcelWriter(file_name,engine='xlsxwriter')   \n",
    "    for dataframe, sheet in zip(df_list, sheet_list):\n",
    "        dataframe.to_excel(writer, sheet_name=sheet, startrow=0 , startcol=0)   \n",
    "    writer.save()"
   ]
  },
  {
   "cell_type": "code",
   "execution_count": 174,
   "metadata": {},
   "outputs": [],
   "source": [
    "# list of dataframes and sheet names\n",
    "dfs = [cot_ob_nm, oni_ob_nm,tom_ob_nm,soy_ob_nm, gnut_ob_nm,scane_ob_nm, paddy_ob_nm, maize_ob_nm, must_ob_nm, \n",
    "       wh_ob_nm, banana_ob_nm, pot_ob_nm, dsm_nm ]\n",
    "sheets = ['Cotton','Onion', 'Tomato', 'Soybean', 'Groundnut', 'Sugarcane', 'Paddy', 'Maize', 'Mustard', \n",
    "          'Wheat', 'Banana','Potato','DSM']\n",
    "# run function\n",
    "dfs_tabs(dfs, sheets, 'Ob_Issues.xlsx')\n"
   ]
  },
  {
   "cell_type": "code",
   "execution_count": null,
   "metadata": {},
   "outputs": [],
   "source": []
  }
 ],
 "metadata": {
  "kernelspec": {
   "display_name": "Python 3",
   "language": "python",
   "name": "python3"
  },
  "language_info": {
   "codemirror_mode": {
    "name": "ipython",
    "version": 3
   },
   "file_extension": ".py",
   "mimetype": "text/x-python",
   "name": "python",
   "nbconvert_exporter": "python",
   "pygments_lexer": "ipython3",
   "version": "3.8.8"
  }
 },
 "nbformat": 4,
 "nbformat_minor": 2
}
